{
 "cells": [
  {
   "cell_type": "code",
   "execution_count": 42,
   "metadata": {},
   "outputs": [
    {
     "name": "stdout",
     "output_type": "stream",
     "text": [
      "[ 3.14018492e-16 -2.22044605e-16  4.05992379e-16] [-1.00000000e+00  1.57009246e-16  1.00000000e+00]\n",
      "Matrix([[-1], [0], [1]])\n",
      "[[-2.00000000e+00  1.57009246e-16 -4.00000000e+00 -1.00000000e+00]\n",
      " [ 0.00000000e+00  2.00000000e+00  2.00000000e+00  1.57009246e-16]\n",
      " [-2.00000000e+00 -1.57009246e-16 -4.00000000e+00  1.00000000e+00]]\n",
      "[0. 3. 1.] [ 1.66666667 -2.66666667  1.        ]\n",
      "1.7763568394002505e-15\n",
      "[-1.  2.  0.] [0.33333333 1.33333333 1.        ]\n",
      "0.0\n",
      "[-2.22044605e-16 -8.88178420e-16 -2.22044605e-16] [-2. -1.  1.]\n",
      "Matrix([[0], [0], [0]]) Matrix([[-1], [0], [1]])\n"
     ]
    }
   ],
   "source": [
    "from sympy import Matrix, symbols\n",
    "import numpy as np\n",
    "\n",
    "F = np.array([[0,1,1],[2,0,4],[0,1,1]])\n",
    "P1 = np.concatenate((np.eye(3), np.zeros(3)[:,np.newaxis]), 1)\n",
    "\n",
    "\n",
    "U, S, VT = np.linalg.svd(F.T, full_matrices=False)\n",
    "e_2 = VT[-1,:] / VT[-1,-1]\n",
    "print(F.T @ e_2, e_2)\n",
    "FT = Matrix(F.T)\n",
    "print(FT.nullspace()[0])\n",
    "\n",
    "\n",
    "\n",
    "e1, e2, e3 = symbols('e1 e2 e3')\n",
    "e = Matrix([e1,e2,e3])\n",
    "values = {e1: e_2[0], e2: e_2[1], e3: e_2[2]}\n",
    "ex = Matrix([[0,-e3,e2],[e3,0,-e1],[-e2,e1,0]]).subs(values)\n",
    "exF = ex*F\n",
    "exFe = exF.row_join(e).subs(values)\n",
    "P2 = np.array(exFe, dtype=float)\n",
    "print(P2)\n",
    "\n",
    "\n",
    "\n",
    "X1 = np.array([0,3,1,1])\n",
    "X2 = np.array([-1,2,0,1])\n",
    "\n",
    "x1 = P1 @ X1\n",
    "x2 = P2 @ X1\n",
    "\n",
    "x1 = x1/x1[-1]\n",
    "x2 = x2/x2[-1]\n",
    "\n",
    "print(x1, x2)\n",
    "print(x2.T @ F @ x1)\n",
    "\n",
    "\n",
    "x1 = P1 @ X2\n",
    "x2 = P2 @ X2\n",
    "\n",
    "x1 = x1\n",
    "x2 = x2/x2[-1]\n",
    "\n",
    "print(x1, x2)\n",
    "print(x2.T @ F @ x1)\n",
    "\n",
    "F = ex @ P2[:,:-1]\n",
    "F/F[-1,-1]\n",
    "\n",
    "F = np.array([[0,1,1],[2,0,4],[0,1,1]])\n",
    "U, S, VT = np.linalg.svd(F, full_matrices=False)\n",
    "e_1 = VT[-1,:] / VT[-1,-1]\n",
    "print(F @ e_1, e_1)\n",
    "F = Matrix(F.T)\n",
    "print(F*F.nullspace()[0], F.nullspace()[0])"
   ]
  }
 ],
 "metadata": {
  "kernelspec": {
   "display_name": "venv_chalmers",
   "language": "python",
   "name": "python3"
  },
  "language_info": {
   "codemirror_mode": {
    "name": "ipython",
    "version": 3
   },
   "file_extension": ".py",
   "mimetype": "text/x-python",
   "name": "python",
   "nbconvert_exporter": "python",
   "pygments_lexer": "ipython3",
   "version": "3.10.0"
  }
 },
 "nbformat": 4,
 "nbformat_minor": 2
}
