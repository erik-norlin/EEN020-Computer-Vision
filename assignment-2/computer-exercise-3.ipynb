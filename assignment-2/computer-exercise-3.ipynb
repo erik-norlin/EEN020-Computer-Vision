{
 "cells": [
  {
   "cell_type": "code",
   "execution_count": 1,
   "metadata": {},
   "outputs": [],
   "source": [
    "import numpy as np\n",
    "import scipy as sp\n",
    "from scipy.io import loadmat\n",
    "from mpl_toolkits import mplot3d\n",
    "import matplotlib.pyplot as plt\n",
    "import matplotlib.image as mpimg\n",
    "from matplotlib.pyplot import cm\n",
    "import matplotlib as mpl\n",
    "import cv2\n",
    "import computer_vision as cv\n",
    "from skimage import data\n",
    "from skimage import transform\n",
    "from skimage.color import rgb2gray\n",
    "from skimage.feature import match_descriptors, plot_matches, SIFT\n",
    "\n",
    "# %matplotlib inline\n",
    "%matplotlib qt\n",
    "%config InlineBackend.figure_format = 'retina'"
   ]
  },
  {
   "cell_type": "code",
   "execution_count": 2,
   "metadata": {},
   "outputs": [],
   "source": [
    "path = r'C:\\Users\\erikn\\skola\\EEN020-Computer-Vision\\assignment-2/'\n",
    "\n",
    "img1 = r'A2data\\data/cube1.jpg'\n",
    "cube1 = cv.load_image(path+img1)\n",
    "\n",
    "img2 = r'A2data\\data/cube2.jpg'\n",
    "cube2 = cv.load_image(path+img2)"
   ]
  },
  {
   "cell_type": "code",
   "execution_count": 3,
   "metadata": {},
   "outputs": [],
   "source": [
    "def get_sift_plot_points(img1_pts, img2_pts, img1):\n",
    "    x = [img1_pts[0,:], np.size(img1,1)+img2_pts[0,:]]\n",
    "    y = [img1_pts[1,:], img2_pts[1,:]]\n",
    "    return x, y"
   ]
  },
  {
   "cell_type": "code",
   "execution_count": 4,
   "metadata": {},
   "outputs": [],
   "source": [
    "def compute_sift_points(img1, img2, marg):\n",
    "    sift = cv2.SIFT_create()\n",
    "    kp1, des1 = sift.detectAndCompute(img1, None)\n",
    "    kp2, des2 = sift.detectAndCompute(img2, None)\n",
    "\n",
    "    FLANN_INDEX_KDTREE = 1\n",
    "    index_params = dict(algorithm = FLANN_INDEX_KDTREE, trees = 5)\n",
    "    search_params = dict(checks=50)   # or pass empty dictionary\n",
    "\n",
    "    flann = cv2.FlannBasedMatcher(index_params, search_params)\n",
    "    matches = flann.knnMatch(des1, des2, k=2)\n",
    "\n",
    "    good_matches = []\n",
    "    for m, n in matches:\n",
    "        if m.distance < marg*n.distance:\n",
    "            good_matches.append([m])\n",
    "\n",
    "    draw_params = dict(matchColor=(255,0,255), singlePointColor=(0,255,0), matchesMask=None, flags=cv2.DrawMatchesFlags_DEFAULT)\n",
    "    img_match = cv2.drawMatchesKnn(img1, kp1, img2, kp2, good_matches, None, **draw_params)\n",
    "\n",
    "    img1_pts = np.stack([kp1[match[0].queryIdx].pt for match in good_matches],1)\n",
    "    img2_pts = np.stack([kp2[match[0].trainIdx].pt for match in good_matches],1)\n",
    "\n",
    "    print('Number of good matches:', np.size(img1_pts,1))\n",
    "\n",
    "    return img1_pts, img2_pts, img_match"
   ]
  },
  {
   "cell_type": "code",
   "execution_count": 5,
   "metadata": {},
   "outputs": [
    {
     "name": "stdout",
     "output_type": "stream",
     "text": [
      "Number of good matches: 6412\n"
     ]
    }
   ],
   "source": [
    "cube1_pts, cube2_pts, cube_match = compute_sift_points(cube1, cube2, 2)\n",
    "\n",
    "# np.save(path+r'A2data\\data/cube1_pts.npy', cube1_pts)\n",
    "# np.save(path+r'A2data\\data/cube2_pts.npy', cube2_pts)\n",
    "\n",
    "x, y = get_sift_plot_points(cube1_pts, cube2_pts, cube1)\n",
    "\n",
    "plt.figure(figsize=(20,9))\n",
    "plt.plot(x, y, 'o-', ms=5, lw=1, color='magenta')\n",
    "plt.xlabel('$x$')\n",
    "plt.ylabel('$y$')\n",
    "plt.axis('equal')\n",
    "plt.imshow(cv2.cvtColor(cube_match, cv2.COLOR_BGR2RGB))\n",
    "plt.show()"
   ]
  }
 ],
 "metadata": {
  "kernelspec": {
   "display_name": "venv_chalmers",
   "language": "python",
   "name": "python3"
  },
  "language_info": {
   "codemirror_mode": {
    "name": "ipython",
    "version": 3
   },
   "file_extension": ".py",
   "mimetype": "text/x-python",
   "name": "python",
   "nbconvert_exporter": "python",
   "pygments_lexer": "ipython3",
   "version": "3.10.0"
  }
 },
 "nbformat": 4,
 "nbformat_minor": 2
}
