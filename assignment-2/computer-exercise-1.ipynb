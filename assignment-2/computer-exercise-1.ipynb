{
 "cells": [
  {
   "cell_type": "code",
   "execution_count": 134,
   "metadata": {},
   "outputs": [],
   "source": [
    "import numpy as np\n",
    "from scipy.io import loadmat\n",
    "from mpl_toolkits import mplot3d\n",
    "import matplotlib.pyplot as plt\n",
    "import matplotlib.image as mpimg\n",
    "from matplotlib.pyplot import cm\n",
    "import matplotlib as mpl\n",
    "import cv2\n",
    "import computer_vision as cv\n",
    "\n",
    "# %matplotlib inline\n",
    "%matplotlib qt\n",
    "%config InlineBackend.figure_format = 'retina'"
   ]
  },
  {
   "cell_type": "code",
   "execution_count": 135,
   "metadata": {},
   "outputs": [],
   "source": [
    "def plot_cameras_and_axes(ax, C_arr, axis_arr, s):\n",
    "\n",
    "    col = cm.rainbow(np.linspace(0, 1, np.size(C_arr,1)))\n",
    "\n",
    "    for i in range(np.size(C_arr,1)):\n",
    "\n",
    "        C = C_arr[:,i]\n",
    "        axis = axis_arr[:,i]\n",
    "\n",
    "        ax.plot(C[0], C[1], C[2], 'o', color=col[i],  label='Camera {}'.format(i+1), alpha=0.7)\n",
    "\n",
    "        x_axis = C[0] + s*axis[0]\n",
    "        y_axis = C[1] + s*axis[1]\n",
    "        z_axis = C[2] + s*axis[2]\n",
    "\n",
    "        # ax.plot(x_axis, y_axis, z_axis, 'o', label='Axis')\n",
    "        ax.plot([x_axis, C[0]], [y_axis, C[1]], [z_axis, C[2]], '-', color=col[i], lw=3, alpha=0.7)"
   ]
  },
  {
   "cell_type": "code",
   "execution_count": 136,
   "metadata": {},
   "outputs": [],
   "source": [
    "def plot_cameras_and_3D_points(X, C_arr, axis_arr, s, path):\n",
    "    \n",
    "    fig = plt.figure(figsize=(10,8))\n",
    "    ax = plt.axes(projection='3d')\n",
    "\n",
    "    ax.plot(X[0], X[1], X[2], '.', ms=0.6, color='magenta', label='3D points')\n",
    "    plot_cameras_and_axes(ax, C_arr, axis_arr, s)\n",
    "\n",
    "    ax.set_xlabel('$x$')\n",
    "    ax.set_ylabel('$y$')\n",
    "    ax.set_zlabel('$z$')\n",
    "    ax.axis('equal')\n",
    "\n",
    "    plt.legend(loc=\"lower right\")\n",
    "    fig.savefig(path, dpi=300)\n",
    "\n",
    "    plt.show()\n",
    "    "
   ]
  },
  {
   "cell_type": "code",
   "execution_count": 137,
   "metadata": {},
   "outputs": [],
   "source": [
    "def plot_image_points_projected_points_and_image(x_proj, x_img, img, path):\n",
    "\n",
    "    fig = plt.figure(figsize=(10,8))\n",
    "\n",
    "    plt.plot(x_img[0], x_img[1], 'D', color='blue', ms=1.2, label='Image points')\n",
    "    plt.plot(x_proj[0], x_proj[1], 's', color='red', ms=0.4, label='Projected points')\n",
    "\n",
    "    plt.xlabel('$x$')\n",
    "    plt.ylabel('$y$')\n",
    "    plt.axis('equal')\n",
    "    plt.gca().invert_yaxis()\n",
    "\n",
    "    plt.legend(loc=\"lower right\")\n",
    "    plt.imshow(img)\n",
    "    fig.savefig(path, dpi=300)\n",
    "\n",
    "    plt.show()"
   ]
  },
  {
   "cell_type": "code",
   "execution_count": 138,
   "metadata": {},
   "outputs": [],
   "source": [
    "def rotate_and_translate_P2_points(x, theta, x_trans, y_trans):\n",
    "\n",
    "    cos = np.cos(theta)\n",
    "    sin= np.sin(theta)\n",
    "    R = np.array([[cos, -sin, x_trans],[sin, cos, y_trans],[0, 0, 1]])\n",
    "\n",
    "    x_rot = R @ x\n",
    "    return x_rot"
   ]
  },
  {
   "cell_type": "code",
   "execution_count": 139,
   "metadata": {},
   "outputs": [],
   "source": [
    "def project_and_plot(P, X, x, img, path):\n",
    "\n",
    "    x_proj = cv.transform_and_dehomogenize(P, X)\n",
    "    x_img = cv.dehomogenize(x)\n",
    "\n",
    "    theta = -np.pi / 2\n",
    "    x_trans = 0\n",
    "    y_trans = np.size(img,0)\n",
    "\n",
    "    x_proj = rotate_and_translate_P2_points(x_proj, theta, x_trans, y_trans)\n",
    "    x_img = rotate_and_translate_P2_points(x_img, theta, x_trans, y_trans)\n",
    "\n",
    "    visible = np.isfinite(x_img)\n",
    "    x_proj_visible = x_proj * visible\n",
    "\n",
    "    plot_image_points_projected_points_and_image(x_proj_visible, x_img, img, path)"
   ]
  },
  {
   "cell_type": "code",
   "execution_count": 140,
   "metadata": {},
   "outputs": [],
   "source": [
    "def transform_project_and_plot(P, X, x, T, view, imfiles, path, name):\n",
    "\n",
    "    x_view = x[0,view]\n",
    "    X_transf = cv.transform_and_dehomogenize(T, X)\n",
    "\n",
    "    P_view = P[view]\n",
    "    P_transf = cv.transform(P_view, np.linalg.inv(T))\n",
    "\n",
    "    img1 = r'A2data\\data/' + imfiles[0,view][0].strip('\\'')\n",
    "    img = cv.load_image(path+img1)\n",
    "\n",
    "    project_and_plot(P_transf, X_transf, x_view, img, path+name)"
   ]
  },
  {
   "cell_type": "code",
   "execution_count": 141,
   "metadata": {},
   "outputs": [],
   "source": [
    "def get_T():\n",
    "    T1 = np.array([[1,0,0,0],\n",
    "                   [0,3,0,0],\n",
    "                   [0,0,1,0],\n",
    "                   [1/8,1/8,0,1]])\n",
    "    \n",
    "    T2 = np.array([[1,0,0,0],\n",
    "                   [0,1,0,0],\n",
    "                   [0,0,1,0],\n",
    "                   [1/16,1/16,0,1]])\n",
    "    \n",
    "    return T1, T2"
   ]
  },
  {
   "cell_type": "code",
   "execution_count": 142,
   "metadata": {},
   "outputs": [],
   "source": [
    "def compute_camera_and_normalized_principal_axis(P, multi=False):\n",
    "\n",
    "    if multi:\n",
    "        C_arr = np.array([cv.homogenize(cv.compute_camera_center(P[i])) for i in range(np.size(P))])\n",
    "        axis_arr = np.array([cv.homogenize(cv.compute_normalized_principal_axis(P[i])) for i in range(np.size(P))])\n",
    "    else:\n",
    "        C_arr = np.array([cv.homogenize(cv.compute_camera_center(P))])\n",
    "        axis_arr = np.array([cv.homogenize(cv.compute_normalized_principal_axis(P))])\n",
    "\n",
    "    if np.size(C_arr, 0) != 4: # (n,4) => (4,n)\n",
    "        C_arr = C_arr.T\n",
    "        axis_arr = axis_arr.T\n",
    "    \n",
    "    return C_arr, axis_arr"
   ]
  },
  {
   "cell_type": "code",
   "execution_count": 143,
   "metadata": {},
   "outputs": [],
   "source": [
    "def transform_cameras(C_arr, axis_arr, T):\n",
    "    C_transf_arr = cv.transform_and_dehomogenize(T, C_arr)\n",
    "    axis_transf_arr = cv.transform_and_dehomogenize(T, axis_arr)\n",
    "    return C_transf_arr, axis_transf_arr"
   ]
  },
  {
   "cell_type": "code",
   "execution_count": 147,
   "metadata": {},
   "outputs": [],
   "source": [
    "path = r'C:\\Users\\erikn\\skola\\EEN020-Computer-Vision\\assignment-2/'\n",
    "data = r'A2data\\data\\compEx1data.mat'\n",
    "\n",
    "P = cv.convert_mat_to_np(path+data, 'P')[0]\n",
    "X = cv.dehomogenize(cv.convert_mat_to_np(path+data, 'X'))\n",
    "x = cv.convert_mat_to_np(path+data, 'x')\n",
    "imfiles = cv.convert_mat_to_np(path+data, 'imfiles')\n",
    "\n",
    "C_arr, axis_arr = compute_camera_and_normalized_principal_axis(P, multi=True)\n",
    "\n",
    "s = 30\n",
    "\n",
    "name = r'report-images\\E1_3D.png'\n",
    "# plot_cameras_and_3D_points(X, C_arr, axis_arr, s, path+name)\n",
    "\n",
    "view = 0\n",
    "P1 = P[view]\n",
    "x1 = x[0,view]\n",
    "\n",
    "img1 = r'A2data\\data/' + imfiles[0,view][0].strip('\\'')\n",
    "img = cv.load_image(path+img1)\n",
    "\n",
    "name = r'report-images\\E1_2D.png'\n",
    "project_and_plot(P1, X, x1, img, path+name)\n",
    "\n",
    "T1, T2 = get_T()\n",
    "X1 = cv.transform_and_dehomogenize(T1, X)\n",
    "X2 = cv.transform_and_dehomogenize(T2, X)\n",
    "\n",
    "C1_arr, axis1_arr = transform_cameras(C_arr, axis_arr, T1)\n",
    "C2_arr, axis2_arr = transform_cameras(C_arr, axis_arr, T2)\n",
    "\n",
    "name = r'report-images\\E1_3D_T1.png'\n",
    "# plot_cameras_and_3D_points(X1, C1_arr, axis1_arr, s, path+name)\n",
    "\n",
    "name = r'report-images\\E1_3D_T2.png'\n",
    "# plot_cameras_and_3D_points(X2, C2_arr, axis2_arr, s, path+name)\n",
    "\n",
    "view = -1\n",
    "\n",
    "name = r'report-images\\E1_2D_T1.png'\n",
    "# transform_project_and_plot(P, X, x, T1, view, imfiles, path, name)\n",
    "\n",
    "name = r'report-images\\E1_2D_T2.png'\n",
    "transform_project_and_plot(P, X, x, T2, view, imfiles, path, name)"
   ]
  }
 ],
 "metadata": {
  "kernelspec": {
   "display_name": "venv_chalmers",
   "language": "python",
   "name": "python3"
  },
  "language_info": {
   "codemirror_mode": {
    "name": "ipython",
    "version": 3
   },
   "file_extension": ".py",
   "mimetype": "text/x-python",
   "name": "python",
   "nbconvert_exporter": "python",
   "pygments_lexer": "ipython3",
   "version": "3.10.0"
  }
 },
 "nbformat": 4,
 "nbformat_minor": 2
}
