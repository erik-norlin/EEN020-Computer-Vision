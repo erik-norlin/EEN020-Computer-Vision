{
 "cells": [
  {
   "cell_type": "code",
   "execution_count": 2,
   "metadata": {},
   "outputs": [],
   "source": [
    "import numpy as np\n",
    "from numpy import linalg as LA\n",
    "from scipy.io import loadmat\n",
    "from mpl_toolkits import mplot3d\n",
    "import matplotlib.pyplot as plt\n",
    "import matplotlib.image as mpimg\n",
    "from matplotlib.pyplot import cm\n",
    "import matplotlib as mpl\n",
    "import cv2\n",
    "import computer_vision as cv\n",
    "from icecream import ic\n",
    "from tqdm import trange\n",
    "import time\n",
    "from get_dataset_info import *\n",
    "\n",
    "# %load_ext snakeviz\n",
    "# %matplotlib inline\n",
    "%matplotlib qt\n",
    "%config InlineBackend.figure_format = 'retina'\n",
    "from matplotlib import rc\n",
    "rc('font', **{'family': 'serif', 'serif': ['Computer Modern']})\n",
    "rc('text', usetex=True)"
   ]
  },
  {
   "cell_type": "code",
   "execution_count": 3,
   "metadata": {},
   "outputs": [],
   "source": [
    "def estimate_E_robust(K, x1_norm, x2_norm, n_its, n_samples, err_threshold_px, alpha):\n",
    "    \n",
    "    err_threshold = err_threshold_px / K[0,0]\n",
    "    best_inliers = None\n",
    "    best_E = None\n",
    "    max_inliers = 0\n",
    "    epsilon = 0\n",
    "    T = n_its\n",
    "    n_points = x1_norm.shape[1]\n",
    "\n",
    "    for t in trange(n_its):\n",
    "\n",
    "        rand_mask = np.random.choice(np.size(x1_norm,1), n_samples, replace=False)\n",
    "        E = cv.estimate_E_DLT(x1_norm[:,rand_mask], x2_norm[:,rand_mask], enforce=True, verbose=False)\n",
    "\n",
    "        D1, D2 = cv.compute_epipolar_errors(E, x1_norm, x2_norm)\n",
    "        inliers = ((D1**2 + D2**2) / 2) < err_threshold**2\n",
    "\n",
    "        n_inliers = np.sum(inliers)\n",
    "\n",
    "        if n_inliers > max_inliers:\n",
    "            best_inliers = np.copy(inliers)\n",
    "            best_E = np.copy(E)\n",
    "            max_inliers = n_inliers\n",
    "            print(np.sum(inliers), end='\\r')\n",
    "\n",
    "            epsilon = max_inliers / n_points\n",
    "            T = cv.compute_ransac_iterations(alpha, epsilon, n_samples)\n",
    "            print('New T:', T, 'New epsilon:', epsilon)\n",
    "            if t >= T-1:\n",
    "                print('Early bailout at iteration:', t, T)\n",
    "                break\n",
    "        \n",
    "    return best_E, best_inliers"
   ]
  },
  {
   "cell_type": "code",
   "execution_count": 9,
   "metadata": {},
   "outputs": [],
   "source": [
    "report = '/report-images'\n",
    "data_set = 0\n",
    "K, img_names, init_pair, pixel_threshold = get_dataset_info(data_set)\n",
    "K_inv = LA.inv(K)\n",
    "imgs = cv.load_image(img_names, multi=True)\n",
    "img1_init = imgs[init_pair[0]]\n",
    "img2_init = imgs[init_pair[1]]"
   ]
  },
  {
   "cell_type": "code",
   "execution_count": 8,
   "metadata": {},
   "outputs": [
    {
     "name": "stdout",
     "output_type": "stream",
     "text": [
      "Number of matches: 44542\n",
      "Number of good matches: 16542\n"
     ]
    }
   ],
   "source": [
    "marg = 0.7\n",
    "x1_init, x2_init, img_match = cv.compute_sift_points(img1_init, img2_init, marg)\n",
    "np.save('data/x1_init_{}.npy'.format(data_set), x1_init)\n",
    "np.save('data/x2_init_{}.npy'.format(data_set), x2_init)"
   ]
  },
  {
   "cell_type": "code",
   "execution_count": null,
   "metadata": {},
   "outputs": [],
   "source": [
    "x1_init = np.load('data/x1_init_{}.npy'.format(data_set))\n",
    "x2_init = np.load('data/x2_init_{}.npy'.format(data_set))\n",
    "x1_init_norm = cv.transform_and_dehomogenize(K_inv, x1_init)\n",
    "x2_init_norm = cv.transform_and_dehomogenize(K_inv, x2_init)\n",
    "n_its = 100000\n",
    "n_samples = 8\n",
    "alpha = 0.95\n",
    "estimate_E_robust(K, x1_init_norm, x2_init_norm, n_its, n_samples, pixel_threshold, alpha)\n",
    "\n"
   ]
  },
  {
   "cell_type": "code",
   "execution_count": 16,
   "metadata": {},
   "outputs": [
    {
     "data": {
      "text/plain": [
       "270761.0"
      ]
     },
     "execution_count": 16,
     "metadata": {},
     "output_type": "execute_result"
    }
   ],
   "source": [
    "alpha = 0.5\n",
    "epsilon = 0.2\n",
    "s = 8\n",
    "np.ceil(np.log(1-alpha) / np.log(1-epsilon**s))"
   ]
  },
  {
   "cell_type": "code",
   "execution_count": 12,
   "metadata": {},
   "outputs": [
    {
     "data": {
      "text/plain": [
       "<matplotlib.image.AxesImage at 0x25c6cbab9d0>"
      ]
     },
     "execution_count": 12,
     "metadata": {},
     "output_type": "execute_result"
    }
   ],
   "source": [
    "plt_3D = True\n",
    "save = False\n",
    "\n",
    "x = np.linspace(0,10,11)\n",
    "y = np.random.rand(11)\n",
    "fig = plt.figure()\n",
    "plt.plot(x,y)\n",
    "fig.savefig('report-images/test.png', bbox_inches='tight')\n",
    "img = cv.load_image('report-images/test.png')\n",
    "plt.imshow(img)"
   ]
  }
 ],
 "metadata": {
  "kernelspec": {
   "display_name": "venv_chalmers",
   "language": "python",
   "name": "python3"
  },
  "language_info": {
   "codemirror_mode": {
    "name": "ipython",
    "version": 3
   },
   "file_extension": ".py",
   "mimetype": "text/x-python",
   "name": "python",
   "nbconvert_exporter": "python",
   "pygments_lexer": "ipython3",
   "version": "3.10.0"
  }
 },
 "nbformat": 4,
 "nbformat_minor": 2
}
