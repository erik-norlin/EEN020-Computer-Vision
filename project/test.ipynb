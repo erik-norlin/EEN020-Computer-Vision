{
 "cells": [
  {
   "cell_type": "code",
   "execution_count": null,
   "metadata": {},
   "outputs": [],
   "source": [
    "def estimate_H_DLT(img1_pts, img2_pts, verbose=False):\n",
    "\n",
    "    n = np.size(img1_pts,1)\n",
    "    M = []\n",
    "\n",
    "    for i in range(n):\n",
    "\n",
    "        x = img1_pts[0,i]\n",
    "        y = img1_pts[1,i]\n",
    "\n",
    "        u = img2_pts[0,i]\n",
    "        v = img2_pts[1,i]\n",
    "\n",
    "        m = np.array([[x, y, 1, 0, 0, 0, -u*x, -u*y, -u],\n",
    "                      [0, 0, 0, x, y, 1, -v*x, -v*y, -v]])\n",
    "\n",
    "        M.append(m)\n",
    "\n",
    "    M = np.concatenate(M, 0)\n",
    "    U, S, VT = LA.svd(M, full_matrices=False)\n",
    "    H = np.stack([VT[-1, i:i+3] for i in range(0, 9, 3)], 0)\n",
    "\n",
    "    if verbose:\n",
    "        M_approx = U @ np.diag(S) @ VT\n",
    "        v = VT[-1,:] # last row of VT because optimal v should be last column of V\n",
    "        Mv = M @ v\n",
    "        print('\\n||Mv||:', (Mv @ Mv)**0.5)\n",
    "        print('||v||^2:', v @ v)\n",
    "        print('max{||M - M_approx||}:', np.max(np.abs(M - M_approx)))\n",
    "        print('S:', S)\n",
    "\n",
    "    return H"
   ]
  }
 ],
 "metadata": {
  "language_info": {
   "name": "python"
  }
 },
 "nbformat": 4,
 "nbformat_minor": 2
}
