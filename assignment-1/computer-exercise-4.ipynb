{
 "cells": [
  {
   "cell_type": "code",
   "execution_count": 1,
   "metadata": {},
   "outputs": [],
   "source": [
    "import numpy as np\n",
    "from scipy.io import loadmat\n",
    "from mpl_toolkits import mplot3d\n",
    "import matplotlib.pyplot as plt\n",
    "import matplotlib.image as mpimg\n",
    "import matplotlib as mpl\n",
    "import cv2\n",
    "\n",
    "# %matplotlib inline\n",
    "%matplotlib qt\n",
    "\n",
    "%config InlineBackend.figure_format = 'retina'"
   ]
  },
  {
   "cell_type": "code",
   "execution_count": 2,
   "metadata": {},
   "outputs": [],
   "source": [
    "def load_image():    \n",
    "    path = r'C:\\Users\\erikn\\skola\\EEN020-Computer-Vision\\assignment-1\\A1data\\data\\compEx4.jpg'\n",
    "    return cv2.imread(path)"
   ]
  },
  {
   "cell_type": "code",
   "execution_count": 3,
   "metadata": {},
   "outputs": [],
   "source": [
    "def mat_to_np():    \n",
    "    path = r'C:\\Users\\erikn\\skola\\EEN020-Computer-Vision\\assignment-1\\A1data\\data\\compEx4.mat'\n",
    "    mat_data = loadmat(path)\n",
    "    corners = np.array(mat_data['corners'])\n",
    "    K = np.array(mat_data['K'])\n",
    "    v = np.array(mat_data['v'])\n",
    "    return corners, K ,v"
   ]
  },
  {
   "cell_type": "code",
   "execution_count": 4,
   "metadata": {},
   "outputs": [],
   "source": [
    "def to_cart(x):\n",
    "    return x/x[-1]"
   ]
  },
  {
   "cell_type": "code",
   "execution_count": 5,
   "metadata": {},
   "outputs": [],
   "source": [
    "def normalize(v):\n",
    "    return v/(v @ v)**0.5"
   ]
  },
  {
   "cell_type": "code",
   "execution_count": 6,
   "metadata": {},
   "outputs": [],
   "source": [
    "def compute_camera_center(P):\n",
    "    M = P[:,:3]\n",
    "    P4 = P[:,-1]\n",
    "    C = -1*(np.linalg.inv(M) @ P4)\n",
    "    return C"
   ]
  },
  {
   "cell_type": "code",
   "execution_count": 7,
   "metadata": {},
   "outputs": [],
   "source": [
    "def compute_principal_axis(P):\n",
    "    M = P[:,:3]\n",
    "    m3 = P[-1,:3]\n",
    "    v = np.linalg.det(M) * m3\n",
    "    return normalize(v)"
   ]
  },
  {
   "cell_type": "code",
   "execution_count": 8,
   "metadata": {},
   "outputs": [],
   "source": [
    "def camera_center_and_axis(P):\n",
    "    C = compute_camera_center(P)\n",
    "    p_axis = compute_principal_axis(P) \n",
    "    return C, p_axis"
   ]
  },
  {
   "cell_type": "code",
   "execution_count": 26,
   "metadata": {},
   "outputs": [],
   "source": [
    "def calibrate(p, K):\n",
    "    return np.linalg.inv(K) @ p"
   ]
  },
  {
   "cell_type": "code",
   "execution_count": 85,
   "metadata": {},
   "outputs": [],
   "source": [
    "def compute_3D_point(pi, x2D):\n",
    "    s = -np.transpose(pi[:-1]) @ x2D\n",
    "    x3D = x2D / s\n",
    "    return x3D"
   ]
  },
  {
   "cell_type": "markdown",
   "metadata": {},
   "source": [
    "Before calibration: origin of the image is in the upper left corner.\n",
    "After calibration: origin of the image is a bit upper left of the center of the image."
   ]
  },
  {
   "cell_type": "code",
   "execution_count": 11,
   "metadata": {},
   "outputs": [],
   "source": [
    "def plot_2D(corners, img, plt_img=False):\n",
    "    x = corners[0,:]\n",
    "    y = corners[1,:]\n",
    "\n",
    "    plt.figure(figsize=(10,8))\n",
    "    plt.plot(x, y, 'o', color='red', label='Corners')\n",
    "    plt.axis('equal')\n",
    "\n",
    "    if plt_img is True:\n",
    "        plt.imshow(img)\n",
    "    else:\n",
    "        plt.gca().invert_yaxis()\n",
    "\n",
    "    plt.legend(loc=\"lower right\")\n",
    "    plt.show()"
   ]
  },
  {
   "cell_type": "code",
   "execution_count": 129,
   "metadata": {},
   "outputs": [],
   "source": [
    "def plot_3D(P1, P2, s1, s2, U1, U2):\n",
    "    C1, p_axis1 = camera_center_and_axis(P1)\n",
    "    C2, p_axis2 = camera_center_and_axis(P2)\n",
    "\n",
    "    plt.figure(figsize=(10,8))\n",
    "    ax = plt.axes(projection='3d')\n",
    "\n",
    "    ax.plot(U1[0], U1[1], U1[2], 'o', color='magenta', label='Corners 3D')\n",
    "    ax.plot(U2[0], U2[1], U2[2], 'o', color='green', label='Corners 2D')\n",
    "\n",
    "    ax.plot(C1[0], C1[1], C1[2], 'o', color='red', label='Camera center 1')\n",
    "    ax.plot(C2[0], C2[1], C2[2], 'o', color='lime', label='Camera center 2')\n",
    "\n",
    "    x_p_axis1 = C1[0] + s1*p_axis1[0]\n",
    "    y_p_axis1 = C1[1] + s1*p_axis1[1]\n",
    "    z_p_axis1 = C1[2] + s1*p_axis1[2]\n",
    "\n",
    "    x_p_axis2 = C2[0] + s2*p_axis2[0]\n",
    "    y_p_axis2 = C2[1] + s2*p_axis2[1]\n",
    "    z_p_axis2 = C2[2] + s2*p_axis2[2]\n",
    "\n",
    "    ax.plot(x_p_axis1, y_p_axis1, z_p_axis1, 'o', color='blue', label='$s_1\\\\cdot$Principal axis 1')\n",
    "    ax.plot(x_p_axis2, y_p_axis2, z_p_axis2, 'o', color='cyan', label='$s_2\\\\cdot$Principal axis 2')\n",
    "\n",
    "    ax.plot([x_p_axis1,C1[0]], [y_p_axis1,C1[1]], [z_p_axis1,C1[2]], '-', color='black')\n",
    "    ax.plot([x_p_axis2,C2[0]], [y_p_axis2,C2[1]], [z_p_axis2,C2[2]], '-', color='black')\n",
    "\n",
    "    ax.set_xlabel('$x$')\n",
    "    ax.set_ylabel('$y$')\n",
    "    ax.axis('equal')\n",
    "    # plt.gca().invert_yaxis()\n",
    "\n",
    "    plt.legend(loc=\"lower right\")\n",
    "    plt.show()\n",
    "    "
   ]
  },
  {
   "cell_type": "code",
   "execution_count": 89,
   "metadata": {},
   "outputs": [],
   "source": [
    "def get_camera_and_scale_1():\n",
    "    P1 = np.concatenate((np.identity(3), np.zeros([3,1])), 1)\n",
    "    s1 = 3\n",
    "    return P1, s1"
   ]
  },
  {
   "cell_type": "code",
   "execution_count": 134,
   "metadata": {},
   "outputs": [],
   "source": [
    "def get_camera_and_scale_2():\n",
    "    cos = np.cos(np.pi/6)\n",
    "    sin = np.sin(np.pi/6)\n",
    "\n",
    "    R = np.array([[cos,0,-sin],[0,1,0],[sin,0,cos]])\n",
    "    C = np.array([-2,0,0])\n",
    "    p4 = np.expand_dims((-C @ np.transpose(R)), 1)\n",
    "\n",
    "    P2 = np.concatenate((R, p4), 1)\n",
    "    s2 = 3.5\n",
    "    return P2, s2"
   ]
  },
  {
   "cell_type": "code",
   "execution_count": 143,
   "metadata": {},
   "outputs": [],
   "source": [
    "def compute_homography(P2, pi):\n",
    "    R = P2[:,:3]\n",
    "    t = P2[:,-1]\n",
    "    return R - np.outer(t, np.transpose(pi[:-1]))"
   ]
  },
  {
   "cell_type": "code",
   "execution_count": 199,
   "metadata": {},
   "outputs": [],
   "source": [
    "def plot_y_2D(y_H, y_P):\n",
    "    \n",
    "    plt.figure(figsize=(10,8))\n",
    "    plt.plot(y_H[0,:], y_H[1,:], 'D', color='blue', label='$y=Hx$')\n",
    "    plt.plot(y_P[0,:], y_P[1,:], '.', color='magenta', label='$y=P_2X$')\n",
    "\n",
    "    plt.axis('equal')\n",
    "\n",
    "    # if plt_img is True:\n",
    "    #     plt.imshow(img)\n",
    "    # else:\n",
    "    plt.gca().invert_yaxis()\n",
    "\n",
    "    plt.legend(loc=\"lower right\")\n",
    "    plt.show()"
   ]
  },
  {
   "cell_type": "code",
   "execution_count": 216,
   "metadata": {},
   "outputs": [],
   "source": [
    "def transform_img(img, K, H):\n",
    "    H_tot = K @ H @ np.linalg.inv(K)\n",
    "    width = np.size(img, 1)\n",
    "    height = np.size(img, 0)\n",
    "    transf_img = cv2.warpPerspective(img, H_tot, (width, height))\n",
    "    return transf_img"
   ]
  },
  {
   "cell_type": "code",
   "execution_count": 212,
   "metadata": {},
   "outputs": [],
   "source": [
    "def plot_transf_img(img):\n",
    "\n",
    "    plt.figure(figsize=(10,8))\n",
    "    plt.axis('equal')\n",
    "\n",
    "    # if plt_img is True:\n",
    "    plt.imshow(img)\n",
    "    # else:\n",
    "    #     plt.gca().invert_yaxis()\n",
    "\n",
    "    plt.show()"
   ]
  },
  {
   "cell_type": "code",
   "execution_count": 217,
   "metadata": {},
   "outputs": [],
   "source": [
    "img = load_image()\n",
    "corners, K, v = mat_to_np()\n",
    "corners_cal = calibrate(corners, K)\n",
    "\n",
    "# plot_2D(corners, img, plt_img=True)\n",
    "# plot_2D(corners_cal, img)\n",
    "\n",
    "corners_R3 = np.transpose(np.array([compute_3D_point(to_cart(v), corners_cal[:,i]) for i in range(np.size(corners_cal, 1))]))\n",
    "\n",
    "P1, s1 = get_camera_and_scale_1()\n",
    "P2, s2 = get_camera_and_scale_2()\n",
    "\n",
    "# plot_3D(P1, P2, s1, s2, corners_3D, corners_cal)\n",
    "\n",
    "corners_P3 = np.concatenate((corners_R3, np.ones([1,4])), 0)\n",
    "H = compute_homography(P2, to_cart(v))\n",
    "y_H = H @ corners_cal\n",
    "y_P = P2 @ corners_P3\n",
    "\n",
    "# plot_y_2D(to_cart(y_H), to_cart(y_P))\n",
    "\n",
    "transf_img = transform_img(img, K, H)\n",
    "plot_transf_img(transf_img)"
   ]
  }
 ],
 "metadata": {
  "kernelspec": {
   "display_name": "venv_chalmers",
   "language": "python",
   "name": "python3"
  },
  "language_info": {
   "codemirror_mode": {
    "name": "ipython",
    "version": 3
   },
   "file_extension": ".py",
   "mimetype": "text/x-python",
   "name": "python",
   "nbconvert_exporter": "python",
   "pygments_lexer": "ipython3",
   "version": "3.10.0"
  }
 },
 "nbformat": 4,
 "nbformat_minor": 2
}
