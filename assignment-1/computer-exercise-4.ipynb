{
 "cells": [
  {
   "cell_type": "code",
   "execution_count": 1,
   "metadata": {},
   "outputs": [],
   "source": [
    "import numpy as np\n",
    "from scipy.io import loadmat\n",
    "from mpl_toolkits import mplot3d\n",
    "import matplotlib.pyplot as plt\n",
    "import matplotlib.image as mpimg\n",
    "import matplotlib as mpl\n",
    "import cv2\n",
    "\n",
    "# %matplotlib inline\n",
    "%matplotlib qt\n",
    "\n",
    "%config InlineBackend.figure_format = 'retina'"
   ]
  },
  {
   "cell_type": "code",
   "execution_count": 2,
   "metadata": {},
   "outputs": [],
   "source": [
    "def load_image():    \n",
    "    path = r'C:\\Users\\erikn\\skola\\EEN020-Computer-Vision\\assignment-1\\A1data\\data\\compEx4.jpg'\n",
    "    return cv2.imread(path)"
   ]
  },
  {
   "cell_type": "code",
   "execution_count": 3,
   "metadata": {},
   "outputs": [],
   "source": [
    "def mat_to_np():    \n",
    "    path = r'C:\\Users\\erikn\\skola\\EEN020-Computer-Vision\\assignment-1\\A1data\\data\\compEx4.mat'\n",
    "    mat_data = loadmat(path)\n",
    "    corners = np.array(mat_data['corners'])\n",
    "    K = np.array(mat_data['K'])\n",
    "    v = np.array(mat_data['v'])\n",
    "    return corners, K ,v"
   ]
  },
  {
   "cell_type": "code",
   "execution_count": 4,
   "metadata": {},
   "outputs": [],
   "source": [
    "def to_cart(x):\n",
    "    return x/x[-1]"
   ]
  },
  {
   "cell_type": "code",
   "execution_count": 5,
   "metadata": {},
   "outputs": [],
   "source": [
    "def normalize(v):\n",
    "    return v/(v @ v)**0.5"
   ]
  },
  {
   "cell_type": "code",
   "execution_count": 6,
   "metadata": {},
   "outputs": [],
   "source": [
    "def compute_camera_center(P):\n",
    "    M = P[:,:3]\n",
    "    P4 = P[:,-1]\n",
    "    C = -1*(np.linalg.inv(M) @ P4)\n",
    "    return C"
   ]
  },
  {
   "cell_type": "code",
   "execution_count": 7,
   "metadata": {},
   "outputs": [],
   "source": [
    "def compute_principal_axis(P):\n",
    "    M = P[:,:3]\n",
    "    m3 = P[-1,:3]\n",
    "    v = np.linalg.det(M) * m3\n",
    "    return normalize(v)"
   ]
  },
  {
   "cell_type": "code",
   "execution_count": 8,
   "metadata": {},
   "outputs": [],
   "source": [
    "def camera_center_and_axis(P):\n",
    "    C = compute_camera_center(P)\n",
    "    p_axis = compute_principal_axis(P) \n",
    "    return C, p_axis"
   ]
  },
  {
   "cell_type": "code",
   "execution_count": 28,
   "metadata": {},
   "outputs": [],
   "source": [
    "def calibrate(p, K):\n",
    "    return np.linalg.inv(K) @ p"
   ]
  },
  {
   "cell_type": "code",
   "execution_count": null,
   "metadata": {},
   "outputs": [],
   "source": [
    "def compute_3D_point(pi, x2D):\n",
    "    s = -pi @ x2D\n",
    "    x3D = x2D / s\n",
    "    return x3D"
   ]
  },
  {
   "cell_type": "markdown",
   "metadata": {},
   "source": [
    "Before calibration: origin of the image is in the upper left corner.\n",
    "After calibration: origin of the image is a bit upper left of the center of the image."
   ]
  },
  {
   "cell_type": "code",
   "execution_count": 64,
   "metadata": {},
   "outputs": [],
   "source": [
    "def plot_2D(corners, img, plt_img=False):\n",
    "    x = corners[0,:]\n",
    "    y = corners[1,:]\n",
    "\n",
    "    plt.figure(figsize=(10,8))\n",
    "    plt.plot(x, y, 'o', color='red', label='Corners')\n",
    "    plt.axis('equal')\n",
    "\n",
    "    if plt_img is True:\n",
    "        plt.imshow(img)\n",
    "    else:\n",
    "        plt.gca().invert_yaxis()\n",
    "\n",
    "    plt.legend(loc=\"lower right\")\n",
    "    plt.show()"
   ]
  },
  {
   "cell_type": "code",
   "execution_count": 49,
   "metadata": {},
   "outputs": [],
   "source": [
    "def plot_3d(P1, s1, U):\n",
    "    C1, p_axis1 = camera_center_and_axis(P1)\n",
    "    # C2, p_axis2 = camera_center_and_axis(P2)\n",
    "\n",
    "    plt.figure(figsize=(10,8))\n",
    "    ax = plt.axes(projection='3d')\n",
    "    ax.plot(U[0], U[1], U[2], '.', ms=0.2, color='magenta', label='U')\n",
    "    \n",
    "    ax.plot(C1[0], C1[1], C1[2], 'o', color='red', label='Camera center 1')\n",
    "    # ax.plot(C2[0], C2[1], C2[2], 'o', color='lime', label='Camera center 2')\n",
    "\n",
    "    x_p_axis1 = C1[0] + s1*p_axis1[0]\n",
    "    y_p_axis1 = C1[1] + s1*p_axis1[1]\n",
    "    z_p_axis1 = C1[2] + s1*p_axis1[2]\n",
    "\n",
    "    # x_p_axis2 = C2[0] + s2*p_axis2[0]\n",
    "    # y_p_axis2 = C2[1] + s2*p_axis2[1]\n",
    "    # z_p_axis2 = C2[2] + s2*p_axis2[2]\n",
    "\n",
    "    ax.plot(x_p_axis1, y_p_axis1, z_p_axis1, 'o', color='blue', label='$s_1\\\\cdot$Principal axis 1')\n",
    "    # ax.plot(x_p_axis2, y_p_axis2, z_p_axis2, 'o', color='cyan', label='$s_2\\\\cdot$Principal axis 2')\n",
    "\n",
    "    ax.plot([x_p_axis1,C1[0]], [y_p_axis1,C1[1]], [z_p_axis1,C1[2]], '-', color='black')\n",
    "    # ax.plot([x_p_axis2,C2[0]], [y_p_axis2,C2[1]], [z_p_axis2,C2[2]], '-', color='black')\n",
    "\n",
    "    plt.legend(loc=\"lower right\")\n",
    "    plt.show()\n",
    "    "
   ]
  },
  {
   "cell_type": "code",
   "execution_count": 65,
   "metadata": {},
   "outputs": [
    {
     "ename": "NameError",
     "evalue": "name 'compute_3D_point' is not defined",
     "output_type": "error",
     "traceback": [
      "\u001b[1;31m---------------------------------------------------------------------------\u001b[0m",
      "\u001b[1;31mNameError\u001b[0m                                 Traceback (most recent call last)",
      "\u001b[1;32mc:\\Users\\erikn\\skola\\EEN020-Computer-Vision\\assignment-1\\computer-exercise-4.ipynb Cell 15\u001b[0m line \u001b[0;36m1\n\u001b[0;32m      <a href='vscode-notebook-cell:/c%3A/Users/erikn/skola/EEN020-Computer-Vision/assignment-1/computer-exercise-4.ipynb#X14sZmlsZQ%3D%3D?line=5'>6</a>\u001b[0m plot_2D(corners_cal, img)\n\u001b[0;32m      <a href='vscode-notebook-cell:/c%3A/Users/erikn/skola/EEN020-Computer-Vision/assignment-1/computer-exercise-4.ipynb#X14sZmlsZQ%3D%3D?line=7'>8</a>\u001b[0m \u001b[39m# plot_corners_cal(img, corners_cal)\u001b[39;00m\n\u001b[1;32m---> <a href='vscode-notebook-cell:/c%3A/Users/erikn/skola/EEN020-Computer-Vision/assignment-1/computer-exercise-4.ipynb#X14sZmlsZQ%3D%3D?line=9'>10</a>\u001b[0m corners_3D \u001b[39m=\u001b[39m [compute_3D_point(to_cart(v), p) \u001b[39mfor\u001b[39;00m p \u001b[39min\u001b[39;00m corners_cal]\n\u001b[0;32m     <a href='vscode-notebook-cell:/c%3A/Users/erikn/skola/EEN020-Computer-Vision/assignment-1/computer-exercise-4.ipynb#X14sZmlsZQ%3D%3D?line=10'>11</a>\u001b[0m P \u001b[39m=\u001b[39m np\u001b[39m.\u001b[39mconcatenate((np\u001b[39m.\u001b[39midentity(\u001b[39m3\u001b[39m), np\u001b[39m.\u001b[39mzeros([\u001b[39m3\u001b[39m,\u001b[39m1\u001b[39m])), \u001b[39m1\u001b[39m)\n",
      "\u001b[1;32mc:\\Users\\erikn\\skola\\EEN020-Computer-Vision\\assignment-1\\computer-exercise-4.ipynb Cell 15\u001b[0m line \u001b[0;36m1\n\u001b[0;32m      <a href='vscode-notebook-cell:/c%3A/Users/erikn/skola/EEN020-Computer-Vision/assignment-1/computer-exercise-4.ipynb#X14sZmlsZQ%3D%3D?line=5'>6</a>\u001b[0m plot_2D(corners_cal, img)\n\u001b[0;32m      <a href='vscode-notebook-cell:/c%3A/Users/erikn/skola/EEN020-Computer-Vision/assignment-1/computer-exercise-4.ipynb#X14sZmlsZQ%3D%3D?line=7'>8</a>\u001b[0m \u001b[39m# plot_corners_cal(img, corners_cal)\u001b[39;00m\n\u001b[1;32m---> <a href='vscode-notebook-cell:/c%3A/Users/erikn/skola/EEN020-Computer-Vision/assignment-1/computer-exercise-4.ipynb#X14sZmlsZQ%3D%3D?line=9'>10</a>\u001b[0m corners_3D \u001b[39m=\u001b[39m [compute_3D_point(to_cart(v), p) \u001b[39mfor\u001b[39;00m p \u001b[39min\u001b[39;00m corners_cal]\n\u001b[0;32m     <a href='vscode-notebook-cell:/c%3A/Users/erikn/skola/EEN020-Computer-Vision/assignment-1/computer-exercise-4.ipynb#X14sZmlsZQ%3D%3D?line=10'>11</a>\u001b[0m P \u001b[39m=\u001b[39m np\u001b[39m.\u001b[39mconcatenate((np\u001b[39m.\u001b[39midentity(\u001b[39m3\u001b[39m), np\u001b[39m.\u001b[39mzeros([\u001b[39m3\u001b[39m,\u001b[39m1\u001b[39m])), \u001b[39m1\u001b[39m)\n",
      "\u001b[1;31mNameError\u001b[0m: name 'compute_3D_point' is not defined"
     ]
    }
   ],
   "source": [
    "img = load_image()\n",
    "corners, K, v = mat_to_np()\n",
    "corners_cal = calibrate(corners, K)\n",
    "\n",
    "plot_2D(corners, img, plt_img=True)\n",
    "plot_2D(corners_cal, img)\n",
    "\n",
    "# plot_corners_cal(img, corners_cal)\n",
    "\n",
    "corners_3D = [compute_3D_point(to_cart(v), p) for p in corners_cal]\n",
    "P = np.concatenate((np.identity(3), np.zeros([3,1])), 1)\n"
   ]
  },
  {
   "cell_type": "code",
   "execution_count": 9,
   "metadata": {},
   "outputs": [
    {
     "ename": "NameError",
     "evalue": "name 'P1' is not defined",
     "output_type": "error",
     "traceback": [
      "\u001b[1;31m---------------------------------------------------------------------------\u001b[0m",
      "\u001b[1;31mNameError\u001b[0m                                 Traceback (most recent call last)",
      "\u001b[1;32mc:\\Users\\erikn\\skola\\EEN020-Computer-Vision\\assignment-1\\computer-exercise-4.ipynb Cell 9\u001b[0m line \u001b[0;36m3\n\u001b[0;32m      <a href='vscode-notebook-cell:/c%3A/Users/erikn/skola/EEN020-Computer-Vision/assignment-1/computer-exercise-4.ipynb#X12sZmlsZQ%3D%3D?line=0'>1</a>\u001b[0m img \u001b[39m=\u001b[39m load_image()\n\u001b[0;32m      <a href='vscode-notebook-cell:/c%3A/Users/erikn/skola/EEN020-Computer-Vision/assignment-1/computer-exercise-4.ipynb#X12sZmlsZQ%3D%3D?line=1'>2</a>\u001b[0m corners, K, v \u001b[39m=\u001b[39m mat_to_np()\n\u001b[1;32m----> <a href='vscode-notebook-cell:/c%3A/Users/erikn/skola/EEN020-Computer-Vision/assignment-1/computer-exercise-4.ipynb#X12sZmlsZQ%3D%3D?line=2'>3</a>\u001b[0m C1, p_axis1 \u001b[39m=\u001b[39m camera_center_and_axis(P1)\n\u001b[0;32m      <a href='vscode-notebook-cell:/c%3A/Users/erikn/skola/EEN020-Computer-Vision/assignment-1/computer-exercise-4.ipynb#X12sZmlsZQ%3D%3D?line=3'>4</a>\u001b[0m C2, p_axis2 \u001b[39m=\u001b[39m camera_center_and_axis(P2)\n\u001b[0;32m      <a href='vscode-notebook-cell:/c%3A/Users/erikn/skola/EEN020-Computer-Vision/assignment-1/computer-exercise-4.ipynb#X12sZmlsZQ%3D%3D?line=5'>6</a>\u001b[0m \u001b[39mprint\u001b[39m(P1 \u001b[39m@\u001b[39m np\u001b[39m.\u001b[39mappend(C1,\u001b[39m1\u001b[39m))\n",
      "\u001b[1;31mNameError\u001b[0m: name 'P1' is not defined"
     ]
    }
   ],
   "source": [
    "img = load_image()\n",
    "corners, K, v = mat_to_np()\n",
    "plot(img, corners)\n",
    "C1, p_axis1 = camera_center_and_axis(P1)\n",
    "C2, p_axis2 = camera_center_and_axis(P2)\n",
    "\n",
    "print(P1 @ np.append(C1,1))\n",
    "print(P2 @ np.append(C2,1), '\\n')\n",
    "\n",
    "print('Camera center 1:', C1, '\\nPrincipal axis 1:', p_axis1)\n",
    "print('\\nCamera center 2:', C2, '\\nPrincipal axis 2:', p_axis2)\n",
    "\n",
    "s1 = 22\n",
    "s2 = 18\n",
    "plot_camera(P1, P2, s1, s2, to_cart(U))"
   ]
  }
 ],
 "metadata": {
  "kernelspec": {
   "display_name": "venv_chalmers",
   "language": "python",
   "name": "python3"
  },
  "language_info": {
   "codemirror_mode": {
    "name": "ipython",
    "version": 3
   },
   "file_extension": ".py",
   "mimetype": "text/x-python",
   "name": "python",
   "nbconvert_exporter": "python",
   "pygments_lexer": "ipython3",
   "version": "3.10.0"
  }
 },
 "nbformat": 4,
 "nbformat_minor": 2
}
