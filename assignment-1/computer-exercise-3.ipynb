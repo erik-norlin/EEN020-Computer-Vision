{
 "cells": [
  {
   "cell_type": "code",
   "execution_count": 1,
   "metadata": {},
   "outputs": [],
   "source": [
    "import numpy as np\n",
    "from scipy.io import loadmat\n",
    "from mpl_toolkits import mplot3d\n",
    "import matplotlib.pyplot as plt\n",
    "import matplotlib.image as mpimg\n",
    "import matplotlib as mpl\n",
    "import cv2\n",
    "\n",
    "# %matplotlib inline\n",
    "%matplotlib qt\n",
    "\n",
    "%config InlineBackend.figure_format = 'retina'"
   ]
  },
  {
   "cell_type": "code",
   "execution_count": 2,
   "metadata": {},
   "outputs": [],
   "source": [
    "def load_images():    \n",
    "    path1 = r'C:\\Users\\erikn\\skola\\EEN020-Computer-Vision\\assignment-1\\A1data\\data\\compEx3im1.jpg'\n",
    "    path2 = r'C:\\Users\\erikn\\skola\\EEN020-Computer-Vision\\assignment-1\\A1data\\data\\compEx3im2.jpg'\n",
    "    return cv2.imread(path1), cv2.imread(path2)"
   ]
  },
  {
   "cell_type": "code",
   "execution_count": 3,
   "metadata": {},
   "outputs": [],
   "source": [
    "def mat_to_np():    \n",
    "    path = r'C:\\Users\\erikn\\skola\\EEN020-Computer-Vision\\assignment-1\\A1data\\data\\compEx3.mat'\n",
    "    mat_data = loadmat(path)\n",
    "    P1 = np.array(mat_data['P1'])\n",
    "    P2 = np.array(mat_data['P2'])\n",
    "    U = np.array(mat_data['U'])\n",
    "    return P1, P2, U"
   ]
  },
  {
   "cell_type": "code",
   "execution_count": 4,
   "metadata": {},
   "outputs": [],
   "source": [
    "def to_cart(x):\n",
    "    return x[:-1]/x[-1]"
   ]
  },
  {
   "cell_type": "code",
   "execution_count": 5,
   "metadata": {},
   "outputs": [],
   "source": [
    "def normalize(v):\n",
    "    return v/(v @ v)**0.5"
   ]
  },
  {
   "cell_type": "code",
   "execution_count": 6,
   "metadata": {},
   "outputs": [],
   "source": [
    "def compute_camera_center(P):\n",
    "    M = P[:,:3]\n",
    "    P4 = P[:,-1]\n",
    "    C = -1*(np.linalg.inv(M) @ P4)\n",
    "    # print(C)\n",
    "    return C"
   ]
  },
  {
   "cell_type": "code",
   "execution_count": 7,
   "metadata": {},
   "outputs": [],
   "source": [
    "def compute_principal_axis(P):\n",
    "    M = P[:,:3]\n",
    "    m3 = P[-1,:3]\n",
    "    v = np.linalg.det(M) * m3\n",
    "    return normalize(v)"
   ]
  },
  {
   "cell_type": "code",
   "execution_count": 8,
   "metadata": {},
   "outputs": [],
   "source": [
    "def camera_center_and_axis(P):\n",
    "    C = compute_camera_center(P)\n",
    "    p_axis = compute_principal_axis(P) \n",
    "    return C, p_axis"
   ]
  },
  {
   "cell_type": "code",
   "execution_count": 9,
   "metadata": {},
   "outputs": [],
   "source": [
    "def plot_camera(P1, P2, s1, s2, U):\n",
    "    C1, p_axis1 = camera_center_and_axis(P1)\n",
    "    C2, p_axis2 = camera_center_and_axis(P2)\n",
    "    # p_axis2 = P2[-1,:3]\n",
    "\n",
    "    fig = plt.figure(figsize=(10,8))\n",
    "    ax = plt.axes(projection='3d')\n",
    "    ax.plot(U[0], U[1], U[2], '.', ms=0.2, color='magenta', label='U')\n",
    "    \n",
    "    ax.plot(C1[0], C1[1], C1[2], 'o', color='red', label='Camera center 1')\n",
    "    ax.plot(C2[0], C2[1], C2[2], 'o', color='lime', label='Camera center 2')\n",
    "\n",
    "    x_p_axis1 = C1[0] + s1*p_axis1[0]\n",
    "    y_p_axis1 = C1[1] + s1*p_axis1[1]\n",
    "    z_p_axis1 = C1[2] + s1*p_axis1[2]\n",
    "\n",
    "    x_p_axis2 = C2[0] + s2*p_axis2[0]\n",
    "    y_p_axis2 = C2[1] + s2*p_axis2[1]\n",
    "    z_p_axis2 = C2[2] + s2*p_axis2[2]\n",
    "\n",
    "    ax.plot(x_p_axis1, y_p_axis1, z_p_axis1, 'o', color='blue', label='$s_1\\\\cdot$Principal axis 1')\n",
    "    ax.plot(x_p_axis2, y_p_axis2, z_p_axis2, 'o', color='cyan', label='$s_2\\\\cdot$Principal axis 2')\n",
    "\n",
    "    ax.plot([x_p_axis1,C1[0]], [y_p_axis1,C1[1]], [z_p_axis1,C1[2]], '-', color='black')\n",
    "    ax.plot([x_p_axis2,C2[0]], [y_p_axis2,C2[1]], [z_p_axis2,C2[2]], '-', color='black')\n",
    "\n",
    "    ax.set_xlabel('$x$')\n",
    "    ax.set_ylabel('$y$')\n",
    "\n",
    "    plt.legend(loc=\"lower right\")\n",
    "    fig.savefig(r'C:\\Users\\erikn\\skola\\EEN020-Computer-Vision\\assignment-1\\report-images\\E3_3D.png', dpi=300)\n",
    "    plt.show()\n",
    "    "
   ]
  },
  {
   "cell_type": "code",
   "execution_count": 10,
   "metadata": {},
   "outputs": [],
   "source": [
    "def plot_imgs(img, y, im):\n",
    "    \n",
    "    fig = plt.figure(figsize=(10,8))\n",
    "\n",
    "    # plt.axis('equal')\n",
    "\n",
    "    plt.imshow(img)\n",
    "    # plt.gca().invert_yaxis()\n",
    "    if im == 1:\n",
    "        plt.plot(y[0,:], y[1,:], '.', color='magenta', ms=0.5, label='$y=P_1U$')\n",
    "        plt.legend(loc=\"lower right\")\n",
    "        plt.xlabel('$x$')\n",
    "        plt.ylabel('$y$')\n",
    "        fig.savefig(r'C:\\Users\\erikn\\skola\\EEN020-Computer-Vision\\assignment-1\\report-images\\E3_2D_1.png', dpi=300)\n",
    "    else:\n",
    "        plt.plot(y[0,:], y[1,:], '.', color='magenta', ms=0.5, label='$y=P_2U$')\n",
    "        plt.legend(loc=\"lower right\")\n",
    "        plt.xlabel('$x$')\n",
    "        plt.ylabel('$y$')\n",
    "        fig.savefig(r'C:\\Users\\erikn\\skola\\EEN020-Computer-Vision\\assignment-1\\report-images\\E3_2D_2.png', dpi=300)\n",
    "\n",
    "    plt.show()\n",
    "    "
   ]
  },
  {
   "cell_type": "code",
   "execution_count": 12,
   "metadata": {},
   "outputs": [
    {
     "name": "stdout",
     "output_type": "stream",
     "text": [
      "Camera center 1: [-0. -0. -0.] \n",
      "Principal axis 1: [0.31292281 0.94608467 0.08368463]\n",
      "\n",
      "Camera center 2: [  6.6352039   14.84597919 -15.06911585] \n",
      "Principal axis 2: [0.03186384 0.34016542 0.93982561]\n"
     ]
    }
   ],
   "source": [
    "img1, img2 = load_images()\n",
    "P1, P2, U = mat_to_np()\n",
    "C1, p_axis1 = camera_center_and_axis(P1)\n",
    "C2, p_axis2 = camera_center_and_axis(P2)\n",
    "\n",
    "print('Camera center 1:', C1, '\\nPrincipal axis 1:', p_axis1)\n",
    "print('\\nCamera center 2:', C2, '\\nPrincipal axis 2:', p_axis2)\n",
    "\n",
    "s1 = 22\n",
    "s2 = 18\n",
    "\n",
    "plot_camera(P1, P2, s1, s2, to_cart(U))\n",
    "\n",
    "y1 = P1 @ U\n",
    "y2 = P2 @ U\n",
    "plot_imgs(img1, to_cart(y1), 1)\n",
    "plot_imgs(img2, to_cart(y2), 2)"
   ]
  }
 ],
 "metadata": {
  "kernelspec": {
   "display_name": "venv_chalmers",
   "language": "python",
   "name": "python3"
  },
  "language_info": {
   "codemirror_mode": {
    "name": "ipython",
    "version": 3
   },
   "file_extension": ".py",
   "mimetype": "text/x-python",
   "name": "python",
   "nbconvert_exporter": "python",
   "pygments_lexer": "ipython3",
   "version": "3.10.0"
  }
 },
 "nbformat": 4,
 "nbformat_minor": 2
}
