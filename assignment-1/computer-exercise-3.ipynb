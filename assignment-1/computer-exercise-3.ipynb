{
 "cells": [
  {
   "cell_type": "code",
   "execution_count": 1,
   "metadata": {},
   "outputs": [],
   "source": [
    "import numpy as np\n",
    "from scipy.io import loadmat\n",
    "from mpl_toolkits import mplot3d\n",
    "import matplotlib.pyplot as plt\n",
    "import matplotlib.image as mpimg\n",
    "import matplotlib as mpl\n",
    "import cv2\n",
    "\n",
    "# %matplotlib inline\n",
    "%matplotlib qt\n",
    "\n",
    "%config InlineBackend.figure_format = 'retina'"
   ]
  },
  {
   "cell_type": "code",
   "execution_count": 2,
   "metadata": {},
   "outputs": [],
   "source": [
    "def load_images():    \n",
    "    path1 = r'C:\\Users\\erikn\\skola\\EEN020-Computer-Vision\\assignment-1\\A1data\\data\\compEx3img1.jpg'\n",
    "    path2 = r'C:\\Users\\erikn\\skola\\EEN020-Computer-Vision\\assignment-1\\A1data\\data\\compEx3img2.jpg'\n",
    "    return cv2.imread(path1), cv2.imread(path2)"
   ]
  },
  {
   "cell_type": "code",
   "execution_count": 3,
   "metadata": {},
   "outputs": [],
   "source": [
    "def mat_to_np():    \n",
    "    path = r'C:\\Users\\erikn\\skola\\EEN020-Computer-Vision\\assignment-1\\A1data\\data\\compEx3.mat'\n",
    "    mat_data = loadmat(path)\n",
    "    P1 = np.array(mat_data['P1'])\n",
    "    P2 = np.array(mat_data['P2'])\n",
    "    U = np.array(mat_data['U'])\n",
    "    return P1, P2, U"
   ]
  },
  {
   "cell_type": "code",
   "execution_count": 4,
   "metadata": {},
   "outputs": [],
   "source": [
    "def to_cart(x):\n",
    "    return x[:-1]/x[-1]"
   ]
  },
  {
   "cell_type": "code",
   "execution_count": 5,
   "metadata": {},
   "outputs": [],
   "source": [
    "def normalize(v):\n",
    "    return v/(v @ v)**0.5"
   ]
  },
  {
   "cell_type": "code",
   "execution_count": 6,
   "metadata": {},
   "outputs": [],
   "source": [
    "def compute_camera_center(P):\n",
    "    M = P[:,:3]\n",
    "    P4 = P[:,-1]\n",
    "    C = -1*(np.linalg.inv(M) @ P4)\n",
    "    print(C)\n",
    "    return C"
   ]
  },
  {
   "cell_type": "code",
   "execution_count": 7,
   "metadata": {},
   "outputs": [],
   "source": [
    "def compute_principal_axis(P):\n",
    "    M = P[:,:3]\n",
    "    m3 = P[-1,:3]\n",
    "    v = np.linalg.det(M) * m3\n",
    "    return normalize(v)"
   ]
  },
  {
   "cell_type": "code",
   "execution_count": 8,
   "metadata": {},
   "outputs": [],
   "source": [
    "def camera_center_and_axis(P):\n",
    "    C = compute_camera_center(P)\n",
    "    p_axis = compute_principal_axis(P) \n",
    "    return C, p_axis"
   ]
  },
  {
   "cell_type": "code",
   "execution_count": 9,
   "metadata": {},
   "outputs": [],
   "source": [
    "def plot_camera(P1, P2, s1, s2, U):\n",
    "    C1, p_axis1 = camera_center_and_axis(P1)\n",
    "    C2, p_axis2 = camera_center_and_axis(P2)\n",
    "    # p_axis2 = P2[-1,:3]\n",
    "\n",
    "    fig1 = plt.figure(figsize=(10,8))\n",
    "    ax = plt.axes(projection='3d')\n",
    "    ax.plot(U[0], U[1], U[2], '.', ms=0.2, color='magenta', label='U')\n",
    "    \n",
    "    ax.plot(C1[0], C1[1], C1[2], 'o', color='red', label='Camera center 1')\n",
    "    ax.plot(C2[0], C2[1], C2[2], 'o', color='lime', label='Camera center 2')\n",
    "\n",
    "    x_p_axis1 = C1[0] + s1*p_axis1[0]\n",
    "    y_p_axis1 = C1[1] + s1*p_axis1[1]\n",
    "    z_p_axis1 = C1[2] + s1*p_axis1[2]\n",
    "\n",
    "    x_p_axis2 = C2[0] + s2*p_axis2[0]\n",
    "    y_p_axis2 = C2[1] + s2*p_axis2[1]\n",
    "    z_p_axis2 = C2[2] + s2*p_axis2[2]\n",
    "\n",
    "    ax.plot(x_p_axis1, y_p_axis1, z_p_axis1, 'o', color='blue', label='$s_1\\\\cdot$Principal axis 1')\n",
    "    ax.plot(x_p_axis2, y_p_axis2, z_p_axis2, 'o', color='cyan', label='$s_2\\\\cdot$Principal axis 2')\n",
    "\n",
    "    ax.plot([x_p_axis1,C1[0]], [y_p_axis1,C1[1]], [z_p_axis1,C1[2]], '-', color='black')\n",
    "    ax.plot([x_p_axis2,C2[0]], [y_p_axis2,C2[1]], [z_p_axis2,C2[2]], '-', color='black')\n",
    "\n",
    "    plt.legend(loc=\"lower right\")\n",
    "    plt.show()\n",
    "    "
   ]
  },
  {
   "cell_type": "code",
   "execution_count": 10,
   "metadata": {},
   "outputs": [
    {
     "name": "stdout",
     "output_type": "stream",
     "text": [
      "[-0. -0. -0.]\n",
      "[  6.6352039   14.84597919 -15.06911585]\n",
      "[0. 0. 0.]\n",
      "[0.00000000e+00 7.27595761e-12 0.00000000e+00] \n",
      "\n",
      "Camera center 1: [-0. -0. -0.] \n",
      "Principal axis 1: [0.31292281 0.94608467 0.08368463]\n",
      "\n",
      "Camera center 2: [  6.6352039   14.84597919 -15.06911585] \n",
      "Principal axis 2: [0.03186384 0.34016542 0.93982561]\n",
      "[[ 2.35362471e+03  1.16524276e+02  1.02333589e+03  0.00000000e+00]\n",
      " [ 1.15667754e+03  4.70914434e+02 -2.14150090e+03  0.00000000e+00]\n",
      " [ 3.12922811e-01  9.46084667e-01  8.36846335e-02  0.00000000e+00]] \n",
      " [[ 2.39824255e+03 -2.78991933e+01  9.20867956e+02 -1.62197157e+03]\n",
      " [ 3.60077547e+02  2.44217303e+03 -2.27649962e+02 -4.20761215e+04]\n",
      " [ 3.18638435e-02  3.40165417e-01  9.39825614e-01  8.90082925e+00]]\n",
      "[-0. -0. -0.]\n",
      "[  6.6352039   14.84597919 -15.06911585]\n"
     ]
    }
   ],
   "source": [
    "img1, img2 = load_images()\n",
    "P1, P2, U = mat_to_np()\n",
    "C1, p_axis1 = camera_center_and_axis(P1)\n",
    "C2, p_axis2 = camera_center_and_axis(P2)\n",
    "\n",
    "print(P1 @ np.append(C1,1))\n",
    "print(P2 @ np.append(C2,1), '\\n')\n",
    "\n",
    "print('Camera center 1:', C1, '\\nPrincipal axis 1:', p_axis1)\n",
    "print('\\nCamera center 2:', C2, '\\nPrincipal axis 2:', p_axis2)\n",
    "\n",
    "s1 = 22\n",
    "s2 = 18\n",
    "print(P1,'\\n',P2)\n",
    "plot_camera(P1, P2, s1, s2, to_cart(U))"
   ]
  }
 ],
 "metadata": {
  "kernelspec": {
   "display_name": "venv_chalmers",
   "language": "python",
   "name": "python3"
  },
  "language_info": {
   "codemirror_mode": {
    "name": "ipython",
    "version": 3
   },
   "file_extension": ".py",
   "mimetype": "text/x-python",
   "name": "python",
   "nbconvert_exporter": "python",
   "pygments_lexer": "ipython3",
   "version": "3.10.0"
  }
 },
 "nbformat": 4,
 "nbformat_minor": 2
}
