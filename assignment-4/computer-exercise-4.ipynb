{
 "cells": [
  {
   "cell_type": "code",
   "execution_count": 1,
   "metadata": {},
   "outputs": [],
   "source": [
    "import numpy as np\n",
    "from numpy import linalg as LA\n",
    "from scipy.io import loadmat\n",
    "from mpl_toolkits import mplot3d\n",
    "import matplotlib.pyplot as plt\n",
    "import matplotlib.image as mpimg\n",
    "from matplotlib.pyplot import cm\n",
    "import matplotlib as mpl\n",
    "import cv2\n",
    "import computer_vision as cv\n",
    "from icecream import ic\n",
    "from tqdm import trange\n",
    "from numba import njit\n",
    "import time\n",
    "\n",
    "%load_ext snakeviz\n",
    "# %matplotlib inline\n",
    "%matplotlib qt\n",
    "%config InlineBackend.figure_format = 'retina'\n",
    "from matplotlib import rc\n",
    "rc('font', **{'family': 'serif', 'serif': ['Computer Modern']})\n",
    "rc('text', usetex=True)"
   ]
  },
  {
   "cell_type": "code",
   "execution_count": 7,
   "metadata": {},
   "outputs": [],
   "source": [
    "def plot_cameras_and_3D_points(X_est, X_opt, C_arr, axis_arr, s, path, save=False):\n",
    "    \n",
    "    fig = plt.figure(figsize=(8,6))\n",
    "    ax = plt.axes(projection='3d')\n",
    "\n",
    "    ax.plot(X_est[0], X_est[1], X_est[2], '.', ms=5, color='magenta', label='Noisy X')\n",
    "    ax.plot(X_opt[0], X_opt[1], X_opt[2], '.', ms=1.7, color='lime', label='Opt. X')\n",
    "    cv.plot_cameras_and_axes(ax, C_arr, axis_arr, s)\n",
    "\n",
    "    ax.set_xlabel('$x$')\n",
    "    ax.set_ylabel('$y$')\n",
    "    ax.set_zlabel('$z$')\n",
    "    ax.set_aspect('equal')\n",
    "    ax.view_init(elev=-50, azim=-104, roll=20)\n",
    "    ax.legend(loc=\"lower right\")\n",
    "    fig.tight_layout()\n",
    "    if save:\n",
    "        fig.savefig(path, dpi=300)\n",
    "    plt.show()"
   ]
  },
  {
   "cell_type": "code",
   "execution_count": 3,
   "metadata": {},
   "outputs": [],
   "source": [
    "def add_noise(pts, std):\n",
    "    pts[:-1,:] += np.random.normal(0, std, pts[:-1,:].shape)\n",
    "    return pts"
   ]
  },
  {
   "cell_type": "code",
   "execution_count": 4,
   "metadata": {},
   "outputs": [
    {
     "name": "stdout",
     "output_type": "stream",
     "text": [
      "\n",
      "stds [0. 0.]\n",
      "\n",
      "Total reprojection error: 3420.75\n",
      "Median reprojection error: 1.5\n",
      "Avg. reprojection error: 1.86\n"
     ]
    },
    {
     "name": "stderr",
     "output_type": "stream",
     "text": [
      "100%|██████████| 1840/1840 [00:03<00:00, 533.39it/s]\n"
     ]
    },
    {
     "name": "stdout",
     "output_type": "stream",
     "text": [
      "\n",
      "Avg its: 1.9945652173913044\n",
      "Max its: 2\n",
      "Min its: 1\n",
      "\n",
      "Total reprojection error: 3250.65\n",
      "Median reprojection error: 1.44\n",
      "Avg. reprojection error: 1.77\n",
      "\n",
      "stds [0. 3.]\n",
      "\n",
      "Total reprojection error: 69302.93\n",
      "Median reprojection error: 31.31\n",
      "Avg. reprojection error: 37.66\n"
     ]
    },
    {
     "name": "stderr",
     "output_type": "stream",
     "text": [
      "100%|██████████| 1840/1840 [00:04<00:00, 449.31it/s]\n"
     ]
    },
    {
     "name": "stdout",
     "output_type": "stream",
     "text": [
      "\n",
      "Avg its: 2.226086956521739\n",
      "Max its: 3\n",
      "Min its: 2\n",
      "\n",
      "Total reprojection error: 20103.96\n",
      "Median reprojection error: 4.85\n",
      "Avg. reprojection error: 10.93\n",
      "\n",
      "stds [0.1 0. ]\n",
      "\n",
      "Total reprojection error: 713674263.63\n",
      "Median reprojection error: 260373.39\n",
      "Avg. reprojection error: 387866.45\n"
     ]
    },
    {
     "name": "stderr",
     "output_type": "stream",
     "text": [
      "100%|██████████| 1840/1840 [00:06<00:00, 275.72it/s]\n"
     ]
    },
    {
     "name": "stdout",
     "output_type": "stream",
     "text": [
      "\n",
      "Avg its: 3.7722826086956522\n",
      "Max its: 5\n",
      "Min its: 3\n",
      "\n",
      "Total reprojection error: 20103.95\n",
      "Median reprojection error: 4.85\n",
      "Avg. reprojection error: 10.93\n",
      "\n",
      "stds [0.1 3. ]\n",
      "\n",
      "Total reprojection error: 735375861.66\n",
      "Median reprojection error: 256616.18\n",
      "Avg. reprojection error: 399660.79\n"
     ]
    },
    {
     "name": "stderr",
     "output_type": "stream",
     "text": [
      "100%|██████████| 1840/1840 [00:07<00:00, 253.83it/s]\n"
     ]
    },
    {
     "name": "stdout",
     "output_type": "stream",
     "text": [
      "\n",
      "Avg its: 3.7385869565217393\n",
      "Max its: 5\n",
      "Min its: 3\n",
      "\n",
      "Total reprojection error: 38820.97\n",
      "Median reprojection error: 9.24\n",
      "Avg. reprojection error: 21.1\n"
     ]
    }
   ],
   "source": [
    "path = r'C:\\Users\\erikn\\skola\\EEN020-Computer-Vision\\assignment-4'\n",
    "data = r'\\data-2023\\data'\n",
    "compex3 = r'\\compEx3data.mat'\n",
    "sift_matlab = r'\\CE2_sift_matlab.mat'\n",
    "report = r'\\report-images'\n",
    "\n",
    "eriks_sol = True\n",
    "\n",
    "if eriks_sol:\n",
    "    ind = 2\n",
    "\n",
    "    x1 = cv.homogenize(cv.convert_mat_to_np(path+data+sift_matlab, 'xA'), multi=True)\n",
    "    x2 = cv.homogenize(cv.convert_mat_to_np(path+data+sift_matlab, 'xB'), multi=True)\n",
    "    inliers = np.load(path+data+'/CE2_inliers_{}.npy'.format(ind))\n",
    "    x1 = x1[:,inliers]\n",
    "    x2 = x2[:,inliers]\n",
    "    X_est = np.load(path+data+'/CE2_X_valid_{}.npy'.format(ind))\n",
    "\n",
    "    K = cv.convert_mat_to_np(path+data+'/compEx2data.mat', 'K')\n",
    "    P1 = cv.transform(K, cv.get_canonical_camera())\n",
    "    P2 = cv.transform(K, np.load(path+data+'/CE2_P2_valid_{}.npy'.format(ind)))\n",
    "else:\n",
    "    ind = 3\n",
    "    \n",
    "    x = cv.convert_mat_to_np(path+data+compex3, 'x')\n",
    "    x1 = x[0,0]\n",
    "    x2 = x[0,1]\n",
    "    X_est = cv.convert_mat_to_np(path+data+compex3, 'X')\n",
    "\n",
    "    P = cv.convert_mat_to_np(path+data+compex3, 'P')\n",
    "    P1 = P[0,0]\n",
    "    P2 = P[0,1]\n",
    "\n",
    "stds = np.array([[0, 0],\n",
    "                 [0, 3],\n",
    "                 [0.1, 0],\n",
    "                 [0.1, 3]])\n",
    "\n",
    "X_noise_arr = []\n",
    "X_opt_arr = []\n",
    "mu = 1\n",
    "n_its = 100\n",
    "\n",
    "for std in stds:\n",
    "\n",
    "    X_noise = add_noise(X_est, std[0])\n",
    "    x1_noise = add_noise(x1, std[1])\n",
    "    x2_noise = add_noise(x2, std[1])\n",
    "    \n",
    "    mu = 1\n",
    "    n_its = 100\n",
    "\n",
    "    print('\\nstds', std)\n",
    "    reproj_err_tot_est, _ = cv.compute_total_reprojection_error(P1, P2, X_noise, x1_noise, x2_noise)\n",
    "    X_opt = cv.optimize_X(P1, P2, X_noise, x1_noise, x2_noise, mu, n_its)\n",
    "    reproj_err_tot_opt, _ = cv.compute_total_reprojection_error(P1, P2, X_opt, x1_noise, x2_noise) \n",
    "\n",
    "    X_noise_arr.append(X_noise)\n",
    "    X_opt_arr.append(X_opt)\n",
    "\n",
    "X_noise_arr = np.concatenate(np.array(X_noise_arr)[:,np.newaxis], 0)\n",
    "X_opt_arr = np.concatenate(np.array(X_opt_arr)[:,np.newaxis], 0)"
   ]
  },
  {
   "cell_type": "code",
   "execution_count": 11,
   "metadata": {},
   "outputs": [],
   "source": [
    "save = False\n",
    "\n",
    "i = 3\n",
    "X_noise = X_noise_arr[i]\n",
    "X_opt = X_opt_arr[i]\n",
    "\n",
    "P_arr = np.array([P1, P2])\n",
    "C_arr, axis_arr = cv.compute_camera_and_normalized_principal_axis(P_arr, multi=True)\n",
    "s = 1\n",
    "\n",
    "plot_cameras_and_3D_points(X_noise, X_opt, C_arr, axis_arr, s, path+report+'/CE4_3D_{}_{}.png'.format(ind, i), save)"
   ]
  }
 ],
 "metadata": {
  "kernelspec": {
   "display_name": "venv_chalmers",
   "language": "python",
   "name": "python3"
  },
  "language_info": {
   "codemirror_mode": {
    "name": "ipython",
    "version": 3
   },
   "file_extension": ".py",
   "mimetype": "text/x-python",
   "name": "python",
   "nbconvert_exporter": "python",
   "pygments_lexer": "ipython3",
   "version": "3.10.0"
  }
 },
 "nbformat": 4,
 "nbformat_minor": 2
}
