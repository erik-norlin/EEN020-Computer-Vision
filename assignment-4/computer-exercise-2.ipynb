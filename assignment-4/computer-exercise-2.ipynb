{
 "cells": [
  {
   "cell_type": "code",
   "execution_count": 1,
   "metadata": {},
   "outputs": [],
   "source": [
    "import numpy as np\n",
    "from scipy.io import loadmat\n",
    "from mpl_toolkits import mplot3d\n",
    "import matplotlib.pyplot as plt\n",
    "import matplotlib.image as mpimg\n",
    "from matplotlib.pyplot import cm\n",
    "import matplotlib as mpl\n",
    "import cv2\n",
    "import computer_vision as cv\n",
    "from icecream import ic\n",
    "from tqdm import trange\n",
    "from numba import njit\n",
    "\n",
    "%load_ext snakeviz\n",
    "# %matplotlib inline\n",
    "%matplotlib qt\n",
    "%config InlineBackend.figure_format = 'retina'\n",
    "from matplotlib import rc\n",
    "rc('font', **{'family': 'serif', 'serif': ['Computer Modern']})\n",
    "rc('text', usetex=True)"
   ]
  },
  {
   "cell_type": "code",
   "execution_count": 2,
   "metadata": {},
   "outputs": [],
   "source": [
    "def compute_sift_points(img1, img2, marg):\n",
    "    sift = cv2.SIFT_create()\n",
    "    kp1, des1 = sift.detectAndCompute(img1, None)\n",
    "    kp2, des2 = sift.detectAndCompute(img2, None)\n",
    "\n",
    "    FLANN_INDEX_KDTREE = 1\n",
    "    index_params = dict(algorithm = FLANN_INDEX_KDTREE, trees = 5)\n",
    "    search_params = dict(checks=50)   # or pass empty dictionary\n",
    "\n",
    "    flann = cv2.FlannBasedMatcher(index_params, search_params)\n",
    "    matches = flann.knnMatch(des1, des2, k=2)\n",
    "\n",
    "    print('Number of matches:', np.size(matches,0))\n",
    "\n",
    "    good_matches = []\n",
    "    for m, n in matches:\n",
    "        if m.distance < marg*n.distance:\n",
    "            good_matches.append([m])\n",
    "\n",
    "    draw_params = dict(matchColor=(255,0,255), singlePointColor=(0,255,0), matchesMask=None, flags=cv2.DrawMatchesFlags_DEFAULT)\n",
    "    img_match = cv2.drawMatchesKnn(img1, kp1, img2, kp2, good_matches, None, **draw_params)\n",
    "\n",
    "    x1 = np.stack([kp1[match[0].queryIdx].pt for match in good_matches],1)\n",
    "    x2 = np.stack([kp2[match[0].trainIdx].pt for match in good_matches],1)\n",
    "\n",
    "    x1 = cv.homogenize(x1, multi=True)\n",
    "    x2 = cv.homogenize(x2, multi=True)\n",
    "\n",
    "    print('Number of good matches:', np.size(x1,1))\n",
    "\n",
    "    return x1, x2, img_match\n",
    "\n",
    "def get_sift_plot_points(img1_pts, img2_pts, img1):\n",
    "    x = [img1_pts[0,:], np.size(img1,1)+img2_pts[0,:]]\n",
    "    y = [img1_pts[1,:], img2_pts[1,:]]\n",
    "    return x, y\n",
    "\n",
    "def plot_sift_points(x1, x2, img1, img_match, path, save=False):\n",
    "    x, y = get_sift_plot_points(x1, x2, img1)\n",
    "\n",
    "    fig = plt.figure(figsize=(18,9))\n",
    "    ax = plt.axes()\n",
    "\n",
    "    ax.plot(x, y, 'o-', ms=5, lw=1, color='magenta')\n",
    "    ax.set_xlabel('$x$')\n",
    "    ax.set_ylabel('$y$')\n",
    "    ax.set_aspect('equal')\n",
    "    # ax.legend(loc=\"upper right\")\n",
    "    ax.imshow(cv2.cvtColor(img_match, cv2.COLOR_BGR2RGB))\n",
    "    fig.tight_layout()\n",
    "    if save:\n",
    "        fig.savefig(path, dpi=300)\n",
    "    plt.show()"
   ]
  },
  {
   "cell_type": "code",
   "execution_count": 3,
   "metadata": {},
   "outputs": [],
   "source": [
    "def compute_ransac_iterations(alpha, epsilon, s):\n",
    "    T = np.ceil(np.log(1-alpha) / np.log(1-epsilon**s))\n",
    "    return T"
   ]
  },
  {
   "cell_type": "code",
   "execution_count": 4,
   "metadata": {},
   "outputs": [],
   "source": [
    "def estimate_E_robust(K, x1_norm, x2_norm, n_its, n_samples, err_threshold_px):\n",
    "    \n",
    "    err_threshold = err_threshold_px / K[0,0]\n",
    "    best_inliers = None\n",
    "    best_E = None\n",
    "    max_inliers = 0\n",
    "\n",
    "    for t in trange(n_its):\n",
    "\n",
    "        rand_mask = np.random.choice(np.size(x1_norm,1), n_samples, replace=False)\n",
    "        E = cv.estimate_E_DLT(x1_norm[:,rand_mask], x2_norm[:,rand_mask], enforce=True, verbose=False)\n",
    "\n",
    "        D1, D2 = cv.compute_epipolar_errors(E, x1_norm, x2_norm)\n",
    "        inliers = ((D1**2 + D2**2) / 2) < err_threshold**2\n",
    "\n",
    "        n_inliers = np.sum(inliers)\n",
    "\n",
    "        if n_inliers > max_inliers:\n",
    "            best_inliers = np.copy(inliers)\n",
    "            best_E = np.copy(E)\n",
    "            max_inliers = n_inliers\n",
    "\n",
    "            print(np.sum(inliers), end='\\r')\n",
    "        \n",
    "    return best_E, best_inliers"
   ]
  },
  {
   "cell_type": "code",
   "execution_count": 5,
   "metadata": {},
   "outputs": [],
   "source": [
    "def plot_cameras_and_3D_points(X, C_arr, axis_arr, s, path, save=False):\n",
    "    \n",
    "    fig = plt.figure(figsize=(8,6))\n",
    "    ax = plt.axes(projection='3d')\n",
    "\n",
    "    ax.plot(X[0], X[1], X[2], '.', ms=0.9, color='magenta', label='3D points')\n",
    "    cv.plot_cameras_and_axes(ax, C_arr, axis_arr, s)\n",
    "\n",
    "    ax.set_xlabel('$x$')\n",
    "    ax.set_ylabel('$y$')\n",
    "    ax.set_zlabel('$z$')\n",
    "    ax.axis('equal')\n",
    "    # ax.view_init(elev=-50, azim=-104, roll=60)\n",
    "    plt.legend(loc=\"lower right\")\n",
    "    if save:\n",
    "        fig.savefig(path, dpi=300)\n",
    "    plt.show()"
   ]
  },
  {
   "cell_type": "code",
   "execution_count": 6,
   "metadata": {},
   "outputs": [],
   "source": [
    "path = r'C:\\Users\\erikn\\skola\\EEN020-Computer-Vision\\assignment-4'\n",
    "data = r'\\data-2023\\data'\n",
    "compex = r'\\compEx2data.mat'\n",
    "img1 = r'\\fountain1.png'\n",
    "img2 = r'\\fountain2.png'\n",
    "report = r'\\report-images'\n",
    "\n",
    "fountain1 = cv.load_image(path+data+img1)\n",
    "fountain2 = cv.load_image(path+data+img2)\n",
    "K = cv.convert_mat_to_np(path+data+compex, 'K')\n",
    "K_inv = np.linalg.inv(K)\n",
    "\n",
    "ransac = True\n",
    "plt_3D = True\n",
    "save = True\n",
    "snakeviz = False\n",
    "ind = 3"
   ]
  },
  {
   "cell_type": "code",
   "execution_count": 47,
   "metadata": {},
   "outputs": [
    {
     "name": "stdout",
     "output_type": "stream",
     "text": [
      "Number of matches: 4381\n",
      "Number of good matches: 170\n",
      "(3, 170) (3, 170)\n"
     ]
    }
   ],
   "source": [
    "marg = 0.7\n",
    "x1, x2, fountain_match = compute_sift_points(fountain1, fountain2, marg)\n",
    "# plot_sift_points(x1, x2, fountain1, fountain_match, path+report+'/CE2_sift.png', save=True)\n",
    "\n",
    "x1_norm = cv.transform_and_dehomogenize(K_inv, x1)\n",
    "x2_norm = cv.transform_and_dehomogenize(K_inv, x2)\n",
    "\n",
    "np.save(path+data+'/x1_norm_ce2_{}.npy'.format(ind), x1_norm)\n",
    "np.save(path+data+'/x2_norm_ce2_{}.npy'.format(ind), x2_norm)"
   ]
  },
  {
   "cell_type": "code",
   "execution_count": 48,
   "metadata": {},
   "outputs": [
    {
     "name": "stderr",
     "output_type": "stream",
     "text": [
      "  0%|          | 88/100000 [00:00<01:53, 877.72it/s]"
     ]
    },
    {
     "name": "stdout",
     "output_type": "stream",
     "text": [
      "27\r"
     ]
    },
    {
     "name": "stderr",
     "output_type": "stream",
     "text": [
      "  0%|          | 484/100000 [00:00<01:45, 947.50it/s]"
     ]
    },
    {
     "name": "stdout",
     "output_type": "stream",
     "text": [
      "55\r"
     ]
    },
    {
     "name": "stderr",
     "output_type": "stream",
     "text": [
      "  2%|▏         | 2437/100000 [00:02<01:47, 910.53it/s] "
     ]
    },
    {
     "name": "stdout",
     "output_type": "stream",
     "text": [
      "117\r"
     ]
    },
    {
     "name": "stderr",
     "output_type": "stream",
     "text": [
      " 15%|█▍        | 14836/100000 [00:13<01:17, 1105.14it/s]"
     ]
    },
    {
     "name": "stdout",
     "output_type": "stream",
     "text": [
      "140\r"
     ]
    },
    {
     "name": "stderr",
     "output_type": "stream",
     "text": [
      "100%|██████████| 100000/100000 [01:49<00:00, 913.53it/s]"
     ]
    },
    {
     "name": "stdout",
     "output_type": "stream",
     "text": [
      "No. inliers: 140\n"
     ]
    },
    {
     "name": "stderr",
     "output_type": "stream",
     "text": [
      "\n"
     ]
    }
   ],
   "source": [
    "if ransac:\n",
    "    n_its = 100000\n",
    "    n_samples = 8\n",
    "    err_threshold_px = 5\n",
    "    E, inliers = estimate_E_robust(K, x1_norm, x2_norm, n_its, n_samples, err_threshold_px)\n",
    "    \n",
    "    np.save(path+data+'/E_robust_ce2_{}.npy'.format(ind), E)\n",
    "    np.save(path+data+'/inliers_ce2_{}.npy'.format(ind), inliers)\n",
    "    print('No. inliers:', np.sum(inliers))\n",
    "    \n",
    "elif snakeviz:\n",
    "    %snakeviz estimate_E_robust(K, x1_norm, x2_norm)\n",
    "else:\n",
    "    E = cv.estimate_E_DLT(x1_norm, x2_norm, enforce=True, verbose=False)"
   ]
  },
  {
   "cell_type": "code",
   "execution_count": 15,
   "metadata": {},
   "outputs": [
    {
     "name": "stdout",
     "output_type": "stream",
     "text": [
      "\n",
      "E: [[  0.16170779   6.12810554  -0.49704611]\n",
      " [  9.60676748   0.56788438  14.76907712]\n",
      " [ -0.65269161 -16.47799254   1.        ]]\n",
      "F: [[ 3.83404093e-09  1.45049461e-07 -1.84387576e-04]\n",
      " [ 2.27387802e-07  1.34188062e-08  6.05355064e-04]\n",
      " [-2.77469966e-04 -1.31035595e-03  1.00000000e+00]]\n",
      "[1.76283187e+01 1.76283187e+01 4.42274025e-16]\n",
      "No. valid coords for each camera pair: [140 140 280   0]\n",
      "Argmax(P2_arr): [140 140 280   0]\n"
     ]
    }
   ],
   "source": [
    "if ransac:\n",
    "    ind = 3\n",
    "    E = np.load(path+data+'/E_robust_ce2_{}.npy'.format(ind))\n",
    "    inliers = np.load(path+data+'/inliers_ce2_{}.npy'.format(ind))\n",
    "    x1_norm = np.load(path+data+'/x1_norm_c2_{}.npy'.format(ind))\n",
    "    x2_norm = np.load(path+data+'/x2_norm_c2_{}.npy'.format(ind))\n",
    "\n",
    "    x1_norm = x1_norm[:,inliers]\n",
    "    x2_norm = x2_norm[:,inliers]\n",
    "\n",
    "F = cv.convert_E_to_F(E, K, K)\n",
    "\n",
    "print('\\nE:', E)\n",
    "print('F:', F)\n",
    "\n",
    "P2_arr = cv.extract_P_from_E(E)\n",
    "P1 = cv.get_canonical_camera()\n",
    "\n",
    "X_arr_dh = np.array([cv.dehomogenize(cv.triangulate_3D_point_DLT(P1, P2, x1_norm, x2_norm, print_svd=False)) for P2 in P2_arr])\n",
    "P2_valid, X_valid = cv.extract_valid_camera_and_points(P1, P2_arr, X_arr_dh)\n",
    "\n",
    "i = 3\n",
    "X_valid = X_arr_dh[i]\n",
    "P2_valid = P2_arr[i]\n",
    "\n",
    "if plt_3D:\n",
    "    P1 = cv.transform(K, P1)\n",
    "    P2 = cv.transform(K, P2_valid)\n",
    "\n",
    "    P_arr = np.array([P1, P2])\n",
    "    C_arr, axis_arr = cv.compute_camera_and_normalized_principal_axis(P_arr, multi=True)\n",
    "\n",
    "    s = 1\n",
    "    plot_cameras_and_3D_points(X_valid, C_arr, axis_arr, s, path+report+'/CE2_3D_P2_{}.png'.format(i+1), save)\n",
    "\n",
    "# if plt_3D:\n",
    "#     for i in range(4):\n",
    "#         P2 = P_arr[i]\n",
    "#         X = X_arr_dh[i]\n",
    "\n",
    "#         P1 = cv.transform(K, P1)\n",
    "#         P2 = cv.transform(K, P2)\n",
    "            \n",
    "#         P_arr = np.array([P1, P2])\n",
    "#         C_arr, axis_arr = cv.compute_camera_and_normalized_principal_axis(P_arr, multi=True)\n",
    "\n",
    "#         s = 10\n",
    "#         plot_cameras_and_3D_points(X, C_arr, axis_arr, s, path+report+'/CE2_3D_P2_{}.png'.format(i+1), save)"
   ]
  },
  {
   "cell_type": "code",
   "execution_count": 50,
   "metadata": {},
   "outputs": [],
   "source": [
    "# All points:\n",
    "# Ransac: False\n",
    "# Mean distance 1: 61.33360616690827\n",
    "# Mean distance 2: 63.46892741628846\n",
    "# RMS error: 155.95832290161417\n",
    "\n",
    "# Inliers:\n",
    "# Ransac: False\n",
    "# Mean distance 1: 14.527720653307188\n",
    "# Mean distance 2: 15.349401111343274\n",
    "# RMS error: 21.875573131094626\n",
    "# No. inliers: 5231\n",
    "\n",
    "# All points:\n",
    "# Ransac: True\n",
    "# Mean distance 1: 58.74538197965829\n",
    "# Mean distance 2: 71.52507914842866\n",
    "# RMS error: 209.63596816010937\n",
    "\n",
    "# Inliers:\n",
    "# Ransac: True\n",
    "# Mean distance 1: 0.8859416907684401\n",
    "# Mean distance 2: 1.0020265668647925\n",
    "# RMS error: 1.084528021008188\n",
    "# No. inliers: 5231"
   ]
  }
 ],
 "metadata": {
  "kernelspec": {
   "display_name": "venv_chalmers",
   "language": "python",
   "name": "python3"
  },
  "language_info": {
   "codemirror_mode": {
    "name": "ipython",
    "version": 3
   },
   "file_extension": ".py",
   "mimetype": "text/x-python",
   "name": "python",
   "nbconvert_exporter": "python",
   "pygments_lexer": "ipython3",
   "version": "3.10.0"
  }
 },
 "nbformat": 4,
 "nbformat_minor": 2
}
