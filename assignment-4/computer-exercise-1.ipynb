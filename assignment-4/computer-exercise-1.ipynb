{
 "cells": [
  {
   "cell_type": "code",
   "execution_count": 35,
   "metadata": {},
   "outputs": [
    {
     "name": "stdout",
     "output_type": "stream",
     "text": [
      "The snakeviz extension is already loaded. To reload it, use:\n",
      "  %reload_ext snakeviz\n"
     ]
    }
   ],
   "source": [
    "import numpy as np\n",
    "from scipy.io import loadmat\n",
    "from mpl_toolkits import mplot3d\n",
    "import matplotlib.pyplot as plt\n",
    "import matplotlib.image as mpimg\n",
    "from matplotlib.pyplot import cm\n",
    "import matplotlib as mpl\n",
    "import cv2\n",
    "import computer_vision as cv\n",
    "from icecream import ic\n",
    "from tqdm import trange\n",
    "from numba import njit\n",
    "\n",
    "%load_ext snakeviz\n",
    "# %matplotlib inline\n",
    "%matplotlib qt\n",
    "%config InlineBackend.figure_format = 'retina'\n",
    "from matplotlib import rc\n",
    "rc('font', **{'family': 'serif', 'serif': ['Computer Modern']})\n",
    "rc('text', usetex=True)"
   ]
  },
  {
   "cell_type": "code",
   "execution_count": 36,
   "metadata": {},
   "outputs": [],
   "source": [
    "def compute_RMS_error(D1, D2):\n",
    "    e_rms = np.sqrt(np.sum(D1**2 + D2**2) / (2*np.size(D1, 0)))\n",
    "    return e_rms"
   ]
  },
  {
   "cell_type": "code",
   "execution_count": 37,
   "metadata": {},
   "outputs": [],
   "source": [
    "def plot_lines_points_and_image(img_pts, img, l, path, save=False):\n",
    "\n",
    "    fig = plt.figure(figsize=(9,6))\n",
    "    ax = plt.axes()\n",
    "    \n",
    "    cv.compute_and_plot_lines(l, img, ax)\n",
    "    ax.plot(img_pts[0], img_pts[1], 'o', color='blue', label='Random points')\n",
    "    ax.set_xlabel('$x$')\n",
    "    ax.set_ylabel('$y$')\n",
    "    # plt.gca().invert_yaxis()\n",
    "    # ax.invert_yaxis()\n",
    "    ax.set_aspect('equal')\n",
    "    ax.legend(loc=\"upper right\")\n",
    "    # ax.margins(x=0.1, y=0.1) \n",
    "    fig.tight_layout()\n",
    "\n",
    "    plt.imshow(cv2.cvtColor(img, cv2.COLOR_BGR2RGB))\n",
    "    if save:\n",
    "        fig.savefig(path, dpi=300)\n",
    "    plt.show()\n"
   ]
  },
  {
   "cell_type": "code",
   "execution_count": 38,
   "metadata": {},
   "outputs": [],
   "source": [
    "def plot_histogram(data, path, mean, save=False):\n",
    "    fig = plt.figure()\n",
    "    plt.hist(data, bins=100, color='tab:blue')\n",
    "    plt.axvline(mean, linestyle='--', color='red', label='Mean: {}'.format(round(mean, 2)))\n",
    "    plt.xlabel('Error')\n",
    "    plt.ylabel('Frequency')\n",
    "    # plt.xlim([0,70])\n",
    "    plt.legend(loc=\"upper right\")\n",
    "    fig.tight_layout()\n",
    "    if save:\n",
    "        fig.savefig(path, dpi=300)\n",
    "    plt.show()"
   ]
  },
  {
   "cell_type": "code",
   "execution_count": 39,
   "metadata": {},
   "outputs": [],
   "source": [
    "def compute_point_line_distance_2D(l, p):\n",
    "    # a = l[0,:]\n",
    "    # b = l[1,:]\n",
    "    # c = l[2,:]\n",
    "\n",
    "    # x = p[0,:]\n",
    "    # y = p[1,:]\n",
    "\n",
    "    # D = np.abs(a*x + b*y + c) / (a**2 + b**2)**0.5\n",
    "\n",
    "    numerator = np.abs(np.einsum(\"ij, ij->j\", p, l))\n",
    "    denominator = np.linalg.norm(l[:-1], axis=0)\n",
    "    D = numerator / denominator\n",
    "\n",
    "    return D\n",
    "\n",
    "def compute_epipolar_lines(F, x1, x2):\n",
    "    # l3 = F @ x1\n",
    "    # l4 = F.T @ x2\n",
    "\n",
    "    l2 = np.einsum(\"ij,jk->ik\", F, x1)\n",
    "    l1 = np.einsum(\"ji,jk->ik\", F, x2)\n",
    "    return l1, l2\n",
    "\n",
    "def compute_epipolar_errors(F, x1, x2):\n",
    "    l1, l2 = compute_epipolar_lines(F, x1, x2)\n",
    "    D1 = compute_point_line_distance_2D(l1, x1)\n",
    "    D2 = compute_point_line_distance_2D(l2, x2)\n",
    "    return D1, D2"
   ]
  },
  {
   "cell_type": "code",
   "execution_count": 47,
   "metadata": {},
   "outputs": [],
   "source": [
    "# @njit()\n",
    "def estimate_E_robust(K, x1_norm, x2_norm):\n",
    "    \n",
    "    err_threshold_px = 2\n",
    "    err_threshold = err_threshold_px / K[0,0]\n",
    "    \n",
    "    # alpha = 0.95\n",
    "    # E = cv.estimate_E_DLT(x1_norm, x2_norm, enforce=True, verbose=False)\n",
    "    # D1, D2, _ = cv.compute_epipolar_errors(E, x1_norm, x2_norm)\n",
    "    # inliers = ((D1**2 + D2**2) / 2) < err_threshold**2\n",
    "    # epsilon = np.sum(inliers) / np.size(inliers)\n",
    "    # s = 8\n",
    "    # T = np.ceil(np.log(1-alpha) / np.log(1-epsilon**s))\n",
    "\n",
    "    s = 8\n",
    "\n",
    "    best_inliers = None\n",
    "    best_E = None\n",
    "    max_inliers = 0\n",
    "\n",
    "    for t in trange(10000):\n",
    "\n",
    "        rand_mask = np.random.choice(np.size(x1_norm,1), s, replace=False)\n",
    "        E = cv.estimate_E_DLT(x1_norm[:,rand_mask], x2_norm[:,rand_mask], enforce=True, verbose=False)\n",
    "\n",
    "        D1, D2 = cv.compute_epipolar_errors(E, x1_norm, x2_norm)\n",
    "        inliers = ((D1**2 + D2**2) / 2) < err_threshold**2\n",
    "\n",
    "        n_inliers = np.sum(inliers)\n",
    "\n",
    "        if n_inliers > max_inliers:\n",
    "            best_inliers = np.copy(inliers)\n",
    "            best_E = np.copy(E)\n",
    "            max_inliers = n_inliers\n",
    "\n",
    "            print(np.sum(inliers), end='\\r')\n",
    "        \n",
    "    return best_E, best_inliers"
   ]
  },
  {
   "cell_type": "code",
   "execution_count": 41,
   "metadata": {},
   "outputs": [],
   "source": [
    "path = r'C:\\Users\\erikn\\skola\\EEN020-Computer-Vision\\assignment-4'\n",
    "data = r'\\data-2023\\data'\n",
    "compex = r'\\compEx1data.mat'\n",
    "img1 = r'\\round_church1.jpg'\n",
    "img2 = r'\\round_church2.jpg'\n",
    "report = r'\\report-images'\n",
    "\n",
    "round_church1 = cv.load_image(path+data+img1)\n",
    "round_church2 = cv.load_image(path+data+img2)\n",
    "K = cv.convert_mat_to_np(path+data+compex, 'K')\n",
    "K_inv = np.linalg.inv(K)\n",
    "x = cv.convert_mat_to_np(path+data+compex, 'x')\n",
    "x1 = cv.dehomogenize(x[0,0])\n",
    "x2 = cv.dehomogenize(x[0,1])\n",
    "\n",
    "ransac = True\n",
    "plt_pts = False\n",
    "plt_hist = False\n",
    "save = False\n",
    "snakeviz = False\n",
    "\n",
    "x1_norm = cv.transform_and_dehomogenize(K_inv, x1)\n",
    "x2_norm = cv.transform_and_dehomogenize(K_inv, x2)"
   ]
  },
  {
   "cell_type": "code",
   "execution_count": 48,
   "metadata": {},
   "outputs": [
    {
     "name": "stderr",
     "output_type": "stream",
     "text": [
      "  0%|          | 20/10000 [00:00<00:57, 172.48it/s]"
     ]
    },
    {
     "name": "stdout",
     "output_type": "stream",
     "text": [
      "289\r"
     ]
    },
    {
     "name": "stderr",
     "output_type": "stream",
     "text": [
      "  1%|          | 54/10000 [00:00<01:27, 113.66it/s]"
     ]
    },
    {
     "name": "stdout",
     "output_type": "stream",
     "text": [
      "430\r"
     ]
    },
    {
     "name": "stderr",
     "output_type": "stream",
     "text": [
      "  4%|▎         | 373/10000 [00:03<01:06, 144.80it/s]"
     ]
    },
    {
     "name": "stdout",
     "output_type": "stream",
     "text": [
      "690\r"
     ]
    },
    {
     "name": "stderr",
     "output_type": "stream",
     "text": [
      "  6%|▋         | 635/10000 [00:05<01:05, 142.60it/s]"
     ]
    },
    {
     "name": "stdout",
     "output_type": "stream",
     "text": [
      "1124\r"
     ]
    },
    {
     "name": "stderr",
     "output_type": "stream",
     "text": [
      " 26%|██▋       | 2633/10000 [00:12<00:17, 412.65it/s]"
     ]
    },
    {
     "name": "stdout",
     "output_type": "stream",
     "text": [
      "1462\r"
     ]
    },
    {
     "name": "stderr",
     "output_type": "stream",
     "text": [
      " 30%|███       | 3006/10000 [00:13<00:16, 416.15it/s]"
     ]
    },
    {
     "name": "stdout",
     "output_type": "stream",
     "text": [
      "1629\r"
     ]
    },
    {
     "name": "stderr",
     "output_type": "stream",
     "text": [
      " 43%|████▎     | 4312/10000 [00:16<00:13, 417.34it/s]"
     ]
    },
    {
     "name": "stdout",
     "output_type": "stream",
     "text": [
      "1916\r"
     ]
    },
    {
     "name": "stderr",
     "output_type": "stream",
     "text": [
      " 52%|█████▏    | 5196/10000 [00:18<00:09, 481.21it/s]"
     ]
    },
    {
     "name": "stdout",
     "output_type": "stream",
     "text": [
      "5561\r"
     ]
    },
    {
     "name": "stderr",
     "output_type": "stream",
     "text": [
      "100%|██████████| 10000/10000 [00:31<00:00, 312.59it/s]"
     ]
    },
    {
     "name": "stdout",
     "output_type": "stream",
     "text": [
      "No. inliers: 5561\n"
     ]
    },
    {
     "name": "stderr",
     "output_type": "stream",
     "text": [
      "\n"
     ]
    }
   ],
   "source": [
    "if ransac:\n",
    "    i = 2 # NEVER 1\n",
    "    E, inliers = estimate_E_robust(K, x1_norm, x2_norm)\n",
    "    # np.save(path+data+'/CE1_E_robust_{}.npy'.format(i), E)\n",
    "    # np.save(path+data+'/CE1_inliers_{}.npy'.format(i), inliers)\n",
    "    print('No. inliers:', np.sum(inliers))\n",
    "elif snakeviz:\n",
    "    %snakeviz estimate_E_robust(K, x1_norm, x2_norm)\n",
    "else:\n",
    "    E = cv.estimate_E_DLT(x1_norm, x2_norm, enforce=True, verbose=False)"
   ]
  },
  {
   "cell_type": "code",
   "execution_count": 32,
   "metadata": {},
   "outputs": [
    {
     "name": "stdout",
     "output_type": "stream",
     "text": [
      "\n",
      "E: [[ -0.08611505  49.90346579  -8.45855958]\n",
      " [-54.18922505  -1.58372458  28.12759202]\n",
      " [  9.67883597 -35.07176971   1.        ]]\n",
      "F: [[-8.41836645e-09  4.86994758e-06 -5.03129184e-03]\n",
      " [-5.28818352e-06 -1.54282994e-07  1.15986920e-02]\n",
      " [ 5.59532959e-03 -1.26371702e-02  1.00000000e+00]]\n",
      "\n",
      "All points:\n",
      "Ransac: True\n",
      "Mean distance 1: 58.218871126293756\n",
      "Mean distance 2: 71.45505427055761\n",
      "RMS error: 211.08275098532155\n",
      "\n",
      "Inliers:\n",
      "Ransac: True\n",
      "Mean distance 1: 0.2689665486285598\n",
      "Mean distance 2: 0.30710082051218507\n",
      "RMS error: 0.377877330889468\n",
      "No. inliers: 5808\n"
     ]
    }
   ],
   "source": [
    "i = 1\n",
    "if ransac:\n",
    "    E = np.load(path+data+'/CE1_E_robust_{}.npy'.format(i))\n",
    "inliers = np.load(path+data+'/CE1_inliers_{}.npy'.format(i))\n",
    "F = cv.convert_E_to_F(E, K, K)\n",
    "\n",
    "print('\\nE:', E)\n",
    "print('F:', F)\n",
    "\n",
    "\n",
    "\n",
    "# All points\n",
    "D1, D2 = cv.compute_epipolar_errors(F, x1, x2)\n",
    "e_rms = compute_RMS_error(D1, D2)\n",
    "\n",
    "print('\\nAll points:')\n",
    "print('Ransac:', ransac)\n",
    "print('Mean distance 1:', np.mean(D1))\n",
    "print('Mean distance 2:', np.mean(D2))\n",
    "print('RMS error:', e_rms)\n",
    "\n",
    "path1 = path+report+'/CE1_hist1_ransac={}_all_points_{}.png'.format(ransac, i)\n",
    "path2 = path+report+'/CE1_hist2_ransac={}_all_points_{}.png'.format(ransac, i)\n",
    "\n",
    "if plt_hist:\n",
    "    plot_histogram(D1, path1, np.mean(D1), save)\n",
    "    plot_histogram(D2, path2, np.mean(D2), save)\n",
    "\n",
    "\n",
    "\n",
    "# Inliers\n",
    "D1, D2 = cv.compute_epipolar_errors(F, x1[:,inliers], x2[:,inliers])\n",
    "e_rms = compute_RMS_error(D1, D2)\n",
    "\n",
    "print('\\nInliers:')\n",
    "print('Ransac:', ransac)\n",
    "print('Mean distance 1:', np.mean(D1))\n",
    "print('Mean distance 2:', np.mean(D2))\n",
    "print('RMS error:', e_rms)\n",
    "print('No. inliers:', np.sum(inliers))\n",
    "\n",
    "path1 = path+report+'/CE1_hist1_ransac={}_inliers_{}.png'.format(ransac, i)\n",
    "path2 = path+report+'/CE1_hist2_ransac={}_inliers{}.png'.format(ransac, i)\n",
    "\n",
    "if plt_hist:\n",
    "    plot_histogram(D1, path1, np.mean(D1), save)\n",
    "    plot_histogram(D2, path2, np.mean(D2), save)\n",
    "\n",
    "\n",
    "\n",
    "# Plot\n",
    "if ransac:\n",
    "    x1_norm = x1_norm[:,inliers]\n",
    "    x2_norm = x2_norm[:,inliers]\n",
    "    x1 = x1[:,inliers]\n",
    "    x2 = x2[:,inliers]\n",
    "\n",
    "rand_mask = np.random.choice(np.size(x2_norm,1), 20, replace=False)\n",
    "x1_rand = x1[:,rand_mask]\n",
    "x2_rand = x2[:,rand_mask]\n",
    "l1, l2 = cv.compute_epipolar_lines(F, x1_rand, x2_rand)\n",
    "\n",
    "path1 = path+report+'/CE1_round_church1_ransac={}_{}.png'.format(ransac, i)\n",
    "path2 = path+report+'/CE1_round_church2_ransac={}_{}.png'.format(ransac, i)\n",
    "\n",
    "if plt_pts:\n",
    "    plot_lines_points_and_image(x1_rand, round_church1, l1, path1, save)\n",
    "    plot_lines_points_and_image(x2_rand, round_church2, l2, path2, save)"
   ]
  },
  {
   "cell_type": "code",
   "execution_count": null,
   "metadata": {},
   "outputs": [],
   "source": [
    "# All points:\n",
    "# Ransac: False\n",
    "# Mean distance 1: 61.33360616690827\n",
    "# Mean distance 2: 63.46892741628846\n",
    "# RMS error: 155.95832290161417\n",
    "\n",
    "# Inliers:\n",
    "# Ransac: False\n",
    "# Mean distance 1: 16.405076850386244\n",
    "# Mean distance 2: 17.255170603651873\n",
    "# RMS error: 24.840289353844906\n",
    "# No. inliers: 5808\n",
    "\n",
    "# All points:\n",
    "# Ransac: True\n",
    "# Mean distance 1: 58.218871126293756\n",
    "# Mean distance 2: 71.45505427055761\n",
    "# RMS error: 211.08275098532155\n",
    "\n",
    "# Inliers:\n",
    "# Ransac: True\n",
    "# Mean distance 1: 0.2689665486285598\n",
    "# Mean distance 2: 0.30710082051218507\n",
    "# RMS error: 0.377877330889468\n",
    "# No. inliers: 5808"
   ]
  }
 ],
 "metadata": {
  "kernelspec": {
   "display_name": "venv_chalmers",
   "language": "python",
   "name": "python3"
  },
  "language_info": {
   "codemirror_mode": {
    "name": "ipython",
    "version": 3
   },
   "file_extension": ".py",
   "mimetype": "text/x-python",
   "name": "python",
   "nbconvert_exporter": "python",
   "pygments_lexer": "ipython3",
   "version": "3.10.0"
  }
 },
 "nbformat": 4,
 "nbformat_minor": 2
}
