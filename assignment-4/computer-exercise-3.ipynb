{
 "cells": [
  {
   "cell_type": "code",
   "execution_count": 39,
   "metadata": {},
   "outputs": [
    {
     "name": "stdout",
     "output_type": "stream",
     "text": [
      "The snakeviz extension is already loaded. To reload it, use:\n",
      "  %reload_ext snakeviz\n"
     ]
    }
   ],
   "source": [
    "import numpy as np\n",
    "from numpy import linalg as LA\n",
    "from scipy.io import loadmat\n",
    "from mpl_toolkits import mplot3d\n",
    "import matplotlib.pyplot as plt\n",
    "import matplotlib.image as mpimg\n",
    "from matplotlib.pyplot import cm\n",
    "import matplotlib as mpl\n",
    "import cv2\n",
    "import computer_vision as cv\n",
    "from icecream import ic\n",
    "from tqdm import trange\n",
    "from numba import njit\n",
    "import time\n",
    "\n",
    "%load_ext snakeviz\n",
    "# %matplotlib inline\n",
    "%matplotlib qt\n",
    "%config InlineBackend.figure_format = 'retina'\n",
    "from matplotlib import rc\n",
    "rc('font', **{'family': 'serif', 'serif': ['Computer Modern']})\n",
    "rc('text', usetex=True)"
   ]
  },
  {
   "cell_type": "code",
   "execution_count": 40,
   "metadata": {},
   "outputs": [],
   "source": [
    "def compute_reprojection_error(P1, P2, Xj, x1j, x2j):\n",
    "\n",
    "    x1j_proj = cv.transform_and_dehomogenize(P1, Xj)\n",
    "    x2j_proj = cv.transform_and_dehomogenize(P2, Xj)\n",
    "    \n",
    "    r1 = np.array([x1j[0] - x1j_proj[0], x1j[1] - x1j_proj[1]])\n",
    "    r2 = np.array([x2j[0] - x2j_proj[0], x2j[1] - x2j_proj[1]])\n",
    "    res = np.concatenate((r1, r2), 0)\n",
    "    reproj_err = LA.norm(res)**2\n",
    "\n",
    "    return reproj_err, res"
   ]
  },
  {
   "cell_type": "code",
   "execution_count": 41,
   "metadata": {},
   "outputs": [],
   "source": [
    "def compute_total_reprojection_error(P1, P2, X_est, x1, x2):\n",
    "\n",
    "    n_pts = np.size(X_est,1)\n",
    "    reproj_err_tot = []\n",
    "    res_tot = []\n",
    "\n",
    "    for j in range(n_pts):\n",
    "\n",
    "        Xj = X_est[:,j]\n",
    "        x1j = x1[:,j]\n",
    "        x2j = x2[:,j]\n",
    "\n",
    "        reproj_err, res = compute_reprojection_error(P1, P2, Xj, x1j, x2j)\n",
    "        reproj_err_tot.append(reproj_err)\n",
    "        res_tot.append(res)\n",
    "    \n",
    "    res_tot = np.concatenate(res_tot, 0)\n",
    "\n",
    "    print('\\nTotal reprojection error:', round(np.sum(reproj_err_tot), 2))\n",
    "    print('Median reprojection error:', round(np.median(reproj_err_tot), 2))\n",
    "    print('Avg. reprojection error:', round(np.mean(reproj_err_tot), 2))\n",
    "\n",
    "    return reproj_err_tot, res_tot"
   ]
  },
  {
   "cell_type": "code",
   "execution_count": 42,
   "metadata": {},
   "outputs": [],
   "source": [
    "def compute_jacobian_of_r(Pi, Xj):\n",
    "    J1 = (Pi[-1,:] * (Pi[0,:] @ Xj) / (Pi[-1,:] @ Xj)**2) - (Pi[0,:] / (Pi[-1,:] @ Xj))\n",
    "    J2 = (Pi[-1,:] * (Pi[1,:] @ Xj) / (Pi[-1,:] @ Xj)**2) - (Pi[1,:] / (Pi[-1,:] @ Xj))\n",
    "    J = np.row_stack((J1, J2))\n",
    "    return J"
   ]
  },
  {
   "cell_type": "code",
   "execution_count": 43,
   "metadata": {},
   "outputs": [],
   "source": [
    "def linearize_reprojection_error(P1, P2, Xj, x1j, x2j):\n",
    "\n",
    "    _, r = compute_reprojection_error(P1, P2, Xj, x1j, x2j)\n",
    "\n",
    "    J1 = compute_jacobian_of_r(P1, Xj)\n",
    "    J2 = compute_jacobian_of_r(P2, Xj)\n",
    "    J = np.row_stack((J1, J2))\n",
    "    \n",
    "    return r, J"
   ]
  },
  {
   "cell_type": "code",
   "execution_count": 44,
   "metadata": {},
   "outputs": [],
   "source": [
    "def compute_update(r, J, mu):\n",
    "    I = np.eye(np.size(J,1))\n",
    "    delta_Xj = -LA.inv(J.T @ J + mu*I) @ J.T @ r\n",
    "    return delta_Xj"
   ]
  },
  {
   "cell_type": "code",
   "execution_count": 45,
   "metadata": {},
   "outputs": [],
   "source": [
    "def optimize_X(P1, P2, X, x1, x2, mu_init, n_its):\n",
    "\n",
    "    n_pts = np.size(X,1)\n",
    "    ts = []\n",
    "\n",
    "    for j in trange(n_pts):\n",
    "        \n",
    "        Xj = X[:,j]\n",
    "        x1j = x1[:,j]\n",
    "        x2j = x2[:,j]\n",
    "\n",
    "        t = 0\n",
    "        converged = False\n",
    "        mu = mu_init\n",
    "    \n",
    "        while (t <= n_its) and converged is not True:\n",
    "        \n",
    "            t += 1\n",
    "            r, J = linearize_reprojection_error(P1, P2, Xj, x1j, x2j)\n",
    "            delta_Xj = compute_update(r, J, mu)\n",
    "            Xj_opt = cv.dehomogenize(Xj + delta_Xj)\n",
    "            \n",
    "            reproj_err, _ = compute_reprojection_error(P1, P2, Xj, x1j, x2j)\n",
    "            reproj_err_opt, _ = compute_reprojection_error(P1, P2, Xj_opt, x1j, x2j)\n",
    "\n",
    "            if np.isclose(reproj_err_opt, reproj_err):\n",
    "                converged = True\n",
    "            elif reproj_err_opt < reproj_err:\n",
    "                Xj = Xj_opt\n",
    "                mu /= 10\n",
    "            else:\n",
    "                mu *= 10\n",
    "        \n",
    "        X[:,j] = Xj\n",
    "        ts.append(t)\n",
    "\n",
    "    print('\\nAvg its:', np.mean(ts))\n",
    "    print('Max its:', np.max(ts))\n",
    "    print('Min its:', np.min(ts))\n",
    "\n",
    "    return X"
   ]
  },
  {
   "cell_type": "code",
   "execution_count": 46,
   "metadata": {},
   "outputs": [],
   "source": [
    "def plot_cameras_and_3D_points(X_est, X_opt, C_arr, axis_arr, s, path, save=False):\n",
    "    \n",
    "    fig = plt.figure(figsize=(8,6))\n",
    "    ax = plt.axes(projection='3d')\n",
    "\n",
    "    ax.plot(X_est[0], X_est[1], X_est[2], '.', ms=5, color='magenta', label='Est. X')\n",
    "    ax.plot(X_opt[0], X_opt[1], X_opt[2], '.', ms=1.7, color='lime', label='Opt. X')\n",
    "    cv.plot_cameras_and_axes(ax, C_arr, axis_arr, s)\n",
    "\n",
    "    ax.set_xlabel('$x$')\n",
    "    ax.set_ylabel('$y$')\n",
    "    ax.set_zlabel('$z$')\n",
    "    ax.set_aspect('equal')\n",
    "    ax.view_init(elev=-50, azim=-104, roll=20)\n",
    "    ax.legend(loc=\"lower right\")\n",
    "    fig.tight_layout()\n",
    "    if save:\n",
    "        fig.savefig(path, dpi=300)\n",
    "    plt.show()"
   ]
  },
  {
   "cell_type": "code",
   "execution_count": 47,
   "metadata": {},
   "outputs": [
    {
     "name": "stdout",
     "output_type": "stream",
     "text": [
      "\n",
      "Total reprojection error: 3420.75\n",
      "Median reprojection error: 1.5\n",
      "Avg. reprojection error: 1.86\n"
     ]
    },
    {
     "name": "stderr",
     "output_type": "stream",
     "text": [
      "100%|██████████| 1840/1840 [00:03<00:00, 508.87it/s]\n"
     ]
    },
    {
     "name": "stdout",
     "output_type": "stream",
     "text": [
      "\n",
      "Avg its: 1.9945652173913044\n",
      "Max its: 2\n",
      "Min its: 1\n",
      "\n",
      "Total reprojection error: 3250.65\n",
      "Median reprojection error: 1.44\n",
      "Avg. reprojection error: 1.77\n"
     ]
    }
   ],
   "source": [
    "path = r'C:\\Users\\erikn\\skola\\EEN020-Computer-Vision\\assignment-4'\n",
    "data = r'\\data-2023\\data'\n",
    "compex3 = r'\\compEx3data.mat'\n",
    "sift_matlab = r'\\CE2_sift_matlab.mat'\n",
    "report = r'\\report-images'\n",
    "\n",
    "eriks_sol = True\n",
    "plt_3D = False\n",
    "save = False\n",
    "\n",
    "if eriks_sol:\n",
    "    ind = 2\n",
    "\n",
    "    x1 = cv.homogenize(cv.convert_mat_to_np(path+data+sift_matlab, 'xA'), multi=True)\n",
    "    x2 = cv.homogenize(cv.convert_mat_to_np(path+data+sift_matlab, 'xB'), multi=True)\n",
    "    inliers = np.load(path+data+'/CE2_inliers_{}.npy'.format(ind))\n",
    "    x1 = x1[:,inliers]\n",
    "    x2 = x2[:,inliers]\n",
    "    X_est = np.load(path+data+'/CE2_X_valid_{}.npy'.format(ind))\n",
    "\n",
    "    K = cv.convert_mat_to_np(path+data+'/compEx2data.mat', 'K')\n",
    "    P1 = cv.transform(K, cv.get_canonical_camera())\n",
    "    P2 = cv.transform(K, np.load(path+data+'/CE2_P2_valid_{}.npy'.format(ind)))\n",
    "else:\n",
    "    ind = 3\n",
    "    \n",
    "    x = cv.convert_mat_to_np(path+data+compex3, 'x')\n",
    "    x1 = x[0,0]\n",
    "    x2 = x[0,1]\n",
    "    X_est = cv.convert_mat_to_np(path+data+compex3, 'X')\n",
    "\n",
    "    P = cv.convert_mat_to_np(path+data+compex3, 'P')\n",
    "    P1 = P[0,0]\n",
    "    P2 = P[0,1]\n",
    "\n",
    "mu = 1\n",
    "n_its = 100\n",
    "\n",
    "reproj_err_tot_est, res_tot_est = compute_total_reprojection_error(P1, P2, X_est, x1, x2)\n",
    "X_opt = optimize_X(P1, P2, X_est, x1, x2, mu, n_its)\n",
    "reproj_err_tot_opt, res_tot_opt = compute_total_reprojection_error(P1, P2, X_opt, x1, x2)    "
   ]
  },
  {
   "cell_type": "code",
   "execution_count": 48,
   "metadata": {},
   "outputs": [],
   "source": [
    "P_arr = np.array([P1, P2])\n",
    "C_arr, axis_arr = cv.compute_camera_and_normalized_principal_axis(P_arr, multi=True)\n",
    "s = 1\n",
    "plot_cameras_and_3D_points(X_est, X_opt, C_arr, axis_arr, s, path+report+'/CE3_3D_{}.png'.format(ind), save)"
   ]
  }
 ],
 "metadata": {
  "kernelspec": {
   "display_name": "venv_chalmers",
   "language": "python",
   "name": "python3"
  },
  "language_info": {
   "codemirror_mode": {
    "name": "ipython",
    "version": 3
   },
   "file_extension": ".py",
   "mimetype": "text/x-python",
   "name": "python",
   "nbconvert_exporter": "python",
   "pygments_lexer": "ipython3",
   "version": "3.10.0"
  }
 },
 "nbformat": 4,
 "nbformat_minor": 2
}
